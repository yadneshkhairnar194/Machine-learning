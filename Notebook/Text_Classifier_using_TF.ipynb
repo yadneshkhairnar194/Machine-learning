{
  "nbformat": 4,
  "nbformat_minor": 0,
  "metadata": {
    "colab": {
      "name": "Text Classifier with TF.ipynb",
      "provenance": [],
      "collapsed_sections": []
    },
    "kernelspec": {
      "name": "python3",
      "display_name": "Python 3"
    },
    "language_info": {
      "name": "python"
    }
  },
  "cells": [
    {
      "cell_type": "markdown",
      "source": [
        "Notebook demonstrate the text classification (positive/negative moview reviews).\n",
        "The underlying problem is sentiment analysis.\n",
        "The data contains 50000 moview reviews. Further split into 25000 for train set and 25000 for test set. The train and test set are balanced, meaning they contain equal number of positives and negatives."
      ],
      "metadata": {
        "id": "IX5l0RjbYVCz"
      }
    },
    {
      "cell_type": "code",
      "execution_count": 34,
      "metadata": {
        "id": "q7cizwRLKj0L"
      },
      "outputs": [],
      "source": [
        "import matplotlib.pyplot as plt\n",
        "import os\n",
        "import re\n",
        "import shutil\n",
        "import string\n",
        "import tensorflow as tf\n",
        "\n",
        "from tensorflow.keras import layers\n",
        "from tensorflow.keras import losses"
      ]
    },
    {
      "cell_type": "code",
      "source": [
        "print(tf.__version__)"
      ],
      "metadata": {
        "colab": {
          "base_uri": "https://localhost:8080/"
        },
        "id": "qYDCTf-WK7DE",
        "outputId": "ec3722df-2e18-4c99-f0cc-d599678db225"
      },
      "execution_count": 35,
      "outputs": [
        {
          "output_type": "stream",
          "name": "stdout",
          "text": [
            "2.8.0\n"
          ]
        }
      ]
    },
    {
      "cell_type": "markdown",
      "source": [
        "We download and extract the dataset. Explore the directory structure."
      ],
      "metadata": {
        "id": "GrTD_KVMZM1u"
      }
    },
    {
      "cell_type": "code",
      "source": [
        "url = \"https://ai.stanford.edu/~amaas/data/sentiment/aclImdb_v1.tar.gz\"\n",
        "\n",
        "dataset = tf.keras.utils.get_file(\"aclImdb_v1\", url,\n",
        "                                    untar=True, cache_dir='.',\n",
        "                                    cache_subdir='')\n",
        "\n",
        "dataset_dir = os.path.join(os.path.dirname(dataset), 'aclImdb')"
      ],
      "metadata": {
        "id": "Sj-znlBrLH7Z"
      },
      "execution_count": 36,
      "outputs": []
    },
    {
      "cell_type": "code",
      "source": [
        "os.listdir(dataset_dir)"
      ],
      "metadata": {
        "colab": {
          "base_uri": "https://localhost:8080/"
        },
        "id": "V_9xYbCfLiZv",
        "outputId": "6e66fcd0-46af-4f59-f4fe-5b581d68b9fa"
      },
      "execution_count": 37,
      "outputs": [
        {
          "output_type": "execute_result",
          "data": {
            "text/plain": [
              "['imdb.vocab', 'imdbEr.txt', 'test', 'README', 'train']"
            ]
          },
          "metadata": {},
          "execution_count": 37
        }
      ]
    },
    {
      "cell_type": "code",
      "source": [
        "train_dir = os.path.join(dataset_dir, 'train')\n",
        "os.listdir(train_dir)"
      ],
      "metadata": {
        "colab": {
          "base_uri": "https://localhost:8080/"
        },
        "id": "WLVrKl2iL8yv",
        "outputId": "19127095-acb1-4aed-9250-7379b8f59ce7"
      },
      "execution_count": 38,
      "outputs": [
        {
          "output_type": "execute_result",
          "data": {
            "text/plain": [
              "['urls_pos.txt',\n",
              " 'neg',\n",
              " 'unsup',\n",
              " 'urls_unsup.txt',\n",
              " 'urls_neg.txt',\n",
              " 'unsupBow.feat',\n",
              " 'labeledBow.feat',\n",
              " 'pos']"
            ]
          },
          "metadata": {},
          "execution_count": 38
        }
      ]
    },
    {
      "cell_type": "markdown",
      "source": [
        "The aclImdb/train/pos and aclImdb/train/neg directories contain many text files, each of which is a single movie review."
      ],
      "metadata": {
        "id": "UHB4wZ1YZfrl"
      }
    },
    {
      "cell_type": "code",
      "source": [
        "sample_file = os.path.join(train_dir, 'pos/1181_9.txt')\n",
        "with open(sample_file) as f:\n",
        "  print(f.read())"
      ],
      "metadata": {
        "colab": {
          "base_uri": "https://localhost:8080/"
        },
        "id": "ex-QABUaL_b5",
        "outputId": "9decf472-a459-4c2a-f60d-715a56a6d283"
      },
      "execution_count": 39,
      "outputs": [
        {
          "output_type": "stream",
          "name": "stdout",
          "text": [
            "Rachel Griffiths writes and directs this award winning short film. A heartwarming story about coping with grief and cherishing the memory of those we've loved and lost. Although, only 15 minutes long, Griffiths manages to capture so much emotion and truth onto film in the short space of time. Bud Tingwell gives a touching performance as Will, a widower struggling to cope with his wife's death. Will is confronted by the harsh reality of loneliness and helplessness as he proceeds to take care of Ruth's pet cow, Tulip. The film displays the grief and responsibility one feels for those they have loved and lost. Good cinematography, great direction, and superbly acted. It will bring tears to all those who have lost a loved one, and survived.\n"
          ]
        }
      ]
    },
    {
      "cell_type": "markdown",
      "source": [
        "# **Load the dataset**\n",
        "We will use the helpful **text_dataset_from_directory** utility, which expects a directory structure as follows.\n",
        "\n",
        "```\n",
        "main directory/\n",
        "...class a/\n",
        "      a_file_1\n",
        "      a_file_2\n",
        "...class b/\n",
        "      b_file_1\n",
        "      b_file_2\n",
        "```\n",
        "\n",
        "To prepare the dataset for binary classification, we need 2 folders on the disk. We will create 2 folders on disk corresponding to class a and class b.\n",
        "These will be pos and neg movie reviews.\n",
        "We won't need any other folders, thus we will remove those.\n",
        "\n",
        "**tf.data** is the powerful tool to work with the data.\n",
        "\n",
        "As per general practice of ML, we should split the dataset into train, validation, test sets.\n",
        "\n",
        "Our current data is already splited into train and test set with validation set missing. \n",
        "We will create validation set with 80:20 proportion of train set.\n",
        "\n"
      ],
      "metadata": {
        "id": "Zn2tMGybaTEi"
      }
    },
    {
      "cell_type": "code",
      "source": [
        "remove_dir = os.path.join(train_dir, 'unsup')\n",
        "shutil.rmtree(remove_dir)"
      ],
      "metadata": {
        "id": "ZYNH_au3MDtJ"
      },
      "execution_count": 40,
      "outputs": []
    },
    {
      "cell_type": "code",
      "source": [
        "batch_size = 32\n",
        "seed = 42\n",
        "\n",
        "raw_train_ds = tf.keras.utils.text_dataset_from_directory(\n",
        "    'aclImdb/train', \n",
        "    batch_size=batch_size, \n",
        "    validation_split=0.2, \n",
        "    subset='training', \n",
        "    seed=seed)"
      ],
      "metadata": {
        "colab": {
          "base_uri": "https://localhost:8080/"
        },
        "id": "wGav3_aqNDFX",
        "outputId": "5914d585-97cc-41b7-9a30-909f6e889cb7"
      },
      "execution_count": 41,
      "outputs": [
        {
          "output_type": "stream",
          "name": "stdout",
          "text": [
            "Found 25000 files belonging to 2 classes.\n",
            "Using 20000 files for training.\n"
          ]
        }
      ]
    },
    {
      "cell_type": "markdown",
      "source": [
        "We will iterate over few examples of the traning data to see data."
      ],
      "metadata": {
        "id": "3_1RH6TYvaLv"
      }
    },
    {
      "cell_type": "code",
      "source": [
        "for text_batch, label_batch in raw_train_ds.take(1):\n",
        "  for i in range(3):\n",
        "    print(\"Review\", text_batch.numpy()[i])\n",
        "    print(\"Label\", label_batch.numpy()[i])"
      ],
      "metadata": {
        "colab": {
          "base_uri": "https://localhost:8080/"
        },
        "id": "8s-h_FE0NQs2",
        "outputId": "9a0665d6-832c-44db-d771-62a63f0723a2"
      },
      "execution_count": 42,
      "outputs": [
        {
          "output_type": "stream",
          "name": "stdout",
          "text": [
            "Review b'\"Pandemonium\" is a horror movie spoof that comes off more stupid than funny. Believe me when I tell you, I love comedies. Especially comedy spoofs. \"Airplane\", \"The Naked Gun\" trilogy, \"Blazing Saddles\", \"High Anxiety\", and \"Spaceballs\" are some of my favorite comedies that spoof a particular genre. \"Pandemonium\" is not up there with those films. Most of the scenes in this movie had me sitting there in stunned silence because the movie wasn\\'t all that funny. There are a few laughs in the film, but when you watch a comedy, you expect to laugh a lot more than a few times and that\\'s all this film has going for it. Geez, \"Scream\" had more laughs than this film and that was more of a horror film. How bizarre is that?<br /><br />*1/2 (out of four)'\n",
            "Label 0\n",
            "Review b\"David Mamet is a very interesting and a very un-equal director. His first movie 'House of Games' was the one I liked best, and it set a series of films with characters whose perspective of life changes as they get into complicated situations, and so does the perspective of the viewer.<br /><br />So is 'Homicide' which from the title tries to set the mind of the viewer to the usual crime drama. The principal characters are two cops, one Jewish and one Irish who deal with a racially charged area. The murder of an old Jewish shop owner who proves to be an ancient veteran of the Israeli Independence war triggers the Jewish identity in the mind and heart of the Jewish detective.<br /><br />This is were the flaws of the film are the more obvious. The process of awakening is theatrical and hard to believe, the group of Jewish militants is operatic, and the way the detective eventually walks to the final violent confrontation is pathetic. The end of the film itself is Mamet-like smart, but disappoints from a human emotional perspective.<br /><br />Joe Mantegna and William Macy give strong performances, but the flaws of the story are too evident to be easily compensated.\"\n",
            "Label 0\n",
            "Review b'Great documentary about the lives of NY firefighters during the worst terrorist attack of all time.. That reason alone is why this should be a must see collectors item.. What shocked me was not only the attacks, but the\"High Fat Diet\" and physical appearance of some of these firefighters. I think a lot of Doctors would agree with me that,in the physical shape they were in, some of these firefighters would NOT of made it to the 79th floor carrying over 60 lbs of gear. Having said that i now have a greater respect for firefighters and i realize becoming a firefighter is a life altering job. The French have a history of making great documentary\\'s and that is what this is, a Great Documentary.....'\n",
            "Label 1\n"
          ]
        }
      ]
    },
    {
      "cell_type": "markdown",
      "source": [
        "Obsevation on new data: \n",
        "\n",
        "\n",
        "```\n",
        "<br>\n",
        "```  and few punctuation are present in data. We should handle it."
      ],
      "metadata": {
        "id": "d8goajCsv6WJ"
      }
    },
    {
      "cell_type": "markdown",
      "source": [
        "Also, we can use class_names property in the dataset to see what Label 0 and 1 represents"
      ],
      "metadata": {
        "id": "peTvaIWPwVYj"
      }
    },
    {
      "cell_type": "code",
      "source": [
        "print(\"Label 0 corresponds to\", raw_train_ds.class_names[0])\n",
        "print(\"Label 1 corresponds to\", raw_train_ds.class_names[1])"
      ],
      "metadata": {
        "colab": {
          "base_uri": "https://localhost:8080/"
        },
        "id": "mYWt-PnQNtqy",
        "outputId": "1a902939-5c76-4ac3-be4e-44d72423b3ed"
      },
      "execution_count": 43,
      "outputs": [
        {
          "output_type": "stream",
          "name": "stdout",
          "text": [
            "Label 0 corresponds to neg\n",
            "Label 1 corresponds to pos\n"
          ]
        }
      ]
    },
    {
      "cell_type": "markdown",
      "source": [
        "Following code, we create validation set. \n",
        "\n",
        "Note - Random seed or shuffle = false must be provided as subset argument to prevent overlap between train and validation set."
      ],
      "metadata": {
        "id": "st4KWxHnwv2B"
      }
    },
    {
      "cell_type": "code",
      "source": [
        "raw_val_ds = tf.keras.utils.text_dataset_from_directory(\n",
        "    'aclImdb/train', \n",
        "    batch_size=batch_size, \n",
        "    validation_split=0.2, \n",
        "    subset='validation', \n",
        "    seed=seed)"
      ],
      "metadata": {
        "colab": {
          "base_uri": "https://localhost:8080/"
        },
        "id": "pGxaF-8oP3p9",
        "outputId": "1ef2e0b8-b875-4c12-c216-24ec417e1f47"
      },
      "execution_count": 44,
      "outputs": [
        {
          "output_type": "stream",
          "name": "stdout",
          "text": [
            "Found 25000 files belonging to 2 classes.\n",
            "Using 5000 files for validation.\n"
          ]
        }
      ]
    },
    {
      "cell_type": "code",
      "source": [
        "raw_test_ds = tf.keras.utils.text_dataset_from_directory(\n",
        "    'aclImdb/test', \n",
        "    batch_size=batch_size)"
      ],
      "metadata": {
        "colab": {
          "base_uri": "https://localhost:8080/"
        },
        "id": "NfuPCVs4P_F5",
        "outputId": "4fc31482-221a-4fd8-d136-d4fde633c29f"
      },
      "execution_count": 45,
      "outputs": [
        {
          "output_type": "stream",
          "name": "stdout",
          "text": [
            "Found 25000 files belonging to 2 classes.\n"
          ]
        }
      ]
    },
    {
      "cell_type": "markdown",
      "source": [
        "## **Now we should prepare the training data**\n",
        "\n",
        "Few concepts - Standardization, Tokenization, Vectorization\n",
        "\n",
        "**Standardization** : refers to preprocessing the text, typically to remove punctuation or HTML elements to simplify the dataset.\n",
        "\n",
        "**Tokenization**: refers to spllitting string into tokens.\n",
        "\n",
        "**Vectorization**: refers to converting tokens into numbers so that they could be fed to NN.\n",
        "\n",
        "Refer to tf.keras.layers.TextVectorization  in Keras."
      ],
      "metadata": {
        "id": "wFI5keYdx-Ya"
      }
    },
    {
      "cell_type": "code",
      "source": [
        "def custom_standardization(input_data):\n",
        "  lowercase = tf.strings.lower(input_data)\n",
        "  stripped_html = tf.strings.regex_replace(lowercase, '<br />', ' ')\n",
        "  return tf.strings.regex_replace(stripped_html,\n",
        "                                  '[%s]' % re.escape(string.punctuation),\n",
        "                                  '')"
      ],
      "metadata": {
        "id": "POodQw6JQFdY"
      },
      "execution_count": 46,
      "outputs": []
    },
    {
      "cell_type": "markdown",
      "source": [
        "TextVectorization does removes punctuations, and convert the text to lower case. But, it won't remove html tag `<br>` thus, we wrote custom standardization function to strip html tags."
      ],
      "metadata": {
        "id": "up8nLZ4L0fzj"
      }
    },
    {
      "cell_type": "markdown",
      "source": [
        "**NOTE**\n",
        "\n",
        "**Training and testing skew:  (training-serving skew)**\n",
        "\n",
        "It is important to preprocess the data at train and test time. \n",
        "\n",
        "To achieve this, TextVectorization Layer can be included directly in the model. \n"
      ],
      "metadata": {
        "id": "Pw57-6fh09_E"
      }
    },
    {
      "cell_type": "code",
      "source": [
        "max_features = 10000\n",
        "sequence_length = 250\n",
        "\n",
        "vectorize_layer = layers.TextVectorization(\n",
        "    standardize=custom_standardization,\n",
        "    max_tokens=max_features,\n",
        "    output_mode='int',\n",
        "    output_sequence_length=sequence_length)"
      ],
      "metadata": {
        "id": "MC3yXpG6Quvr"
      },
      "execution_count": 49,
      "outputs": []
    },
    {
      "cell_type": "markdown",
      "source": [
        "The above TextVectorization layer is created. \n",
        "\n",
        "output_mode = 'int' will create unique integer indices for each token.\n",
        "\n",
        "sequence_length = will truncate or pad the sequences to the constant value."
      ],
      "metadata": {
        "id": "gZpH6PkO3lr9"
      }
    },
    {
      "cell_type": "markdown",
      "source": [
        "We will call adapt to fit the state of the preprocessing layer to the training data.\n",
        "\n",
        "This will cause the model to build the index of strings to integers.\n"
      ],
      "metadata": {
        "id": "dLlsxrs_48QB"
      }
    },
    {
      "cell_type": "markdown",
      "source": [
        "**Note**\n",
        "\n",
        "It's important to only use your training data when calling adapt (using the test set would leak information)."
      ],
      "metadata": {
        "id": "jF7Sz9C25YfM"
      }
    },
    {
      "cell_type": "code",
      "source": [
        "# Make a text-only dataset (without labels), then call adapt\n",
        "train_text = raw_train_ds.map(lambda x, y: x)\n",
        "vectorize_layer.adapt(train_text)"
      ],
      "metadata": {
        "id": "78kMfIdwQ3T5"
      },
      "execution_count": 50,
      "outputs": []
    },
    {
      "cell_type": "markdown",
      "source": [
        "Let's create a function to see the result of using this layer to preprocess some data."
      ],
      "metadata": {
        "id": "-Ckvbkcd5w2D"
      }
    },
    {
      "cell_type": "code",
      "source": [
        "def vectorize_text(text, label):\n",
        "  text = tf.expand_dims(text, -1)\n",
        "  return vectorize_layer(text), label"
      ],
      "metadata": {
        "id": "_BQqDZrXQ6AQ"
      },
      "execution_count": 51,
      "outputs": []
    },
    {
      "cell_type": "code",
      "source": [
        "# retrieve a batch (of 32 reviews and labels) from the dataset\n",
        "text_batch, label_batch = next(iter(raw_train_ds))\n",
        "first_review, first_label = text_batch[0], label_batch[0]\n",
        "print(\"Review\", first_review)\n",
        "print(\"Label\", raw_train_ds.class_names[first_label])\n",
        "print(\"Vectorized review\", vectorize_text(first_review, first_label))"
      ],
      "metadata": {
        "colab": {
          "base_uri": "https://localhost:8080/"
        },
        "id": "XAM0yXQSRJSS",
        "outputId": "62cc1665-e6a1-4f20-9b4f-a90a5d14646c"
      },
      "execution_count": 52,
      "outputs": [
        {
          "output_type": "stream",
          "name": "stdout",
          "text": [
            "Review tf.Tensor(b'Great movie - especially the music - Etta James - \"At Last\". This speaks volumes when you have finally found that special someone.', shape=(), dtype=string)\n",
            "Label neg\n",
            "Vectorized review (<tf.Tensor: shape=(1, 250), dtype=int64, numpy=\n",
            "array([[  86,   17,  260,    2,  222,    1,  571,   31,  229,   11, 2418,\n",
            "           1,   51,   22,   25,  404,  251,   12,  306,  282,    0,    0,\n",
            "           0,    0,    0,    0,    0,    0,    0,    0,    0,    0,    0,\n",
            "           0,    0,    0,    0,    0,    0,    0,    0,    0,    0,    0,\n",
            "           0,    0,    0,    0,    0,    0,    0,    0,    0,    0,    0,\n",
            "           0,    0,    0,    0,    0,    0,    0,    0,    0,    0,    0,\n",
            "           0,    0,    0,    0,    0,    0,    0,    0,    0,    0,    0,\n",
            "           0,    0,    0,    0,    0,    0,    0,    0,    0,    0,    0,\n",
            "           0,    0,    0,    0,    0,    0,    0,    0,    0,    0,    0,\n",
            "           0,    0,    0,    0,    0,    0,    0,    0,    0,    0,    0,\n",
            "           0,    0,    0,    0,    0,    0,    0,    0,    0,    0,    0,\n",
            "           0,    0,    0,    0,    0,    0,    0,    0,    0,    0,    0,\n",
            "           0,    0,    0,    0,    0,    0,    0,    0,    0,    0,    0,\n",
            "           0,    0,    0,    0,    0,    0,    0,    0,    0,    0,    0,\n",
            "           0,    0,    0,    0,    0,    0,    0,    0,    0,    0,    0,\n",
            "           0,    0,    0,    0,    0,    0,    0,    0,    0,    0,    0,\n",
            "           0,    0,    0,    0,    0,    0,    0,    0,    0,    0,    0,\n",
            "           0,    0,    0,    0,    0,    0,    0,    0,    0,    0,    0,\n",
            "           0,    0,    0,    0,    0,    0,    0,    0,    0,    0,    0,\n",
            "           0,    0,    0,    0,    0,    0,    0,    0,    0,    0,    0,\n",
            "           0,    0,    0,    0,    0,    0,    0,    0,    0,    0,    0,\n",
            "           0,    0,    0,    0,    0,    0,    0,    0,    0,    0,    0,\n",
            "           0,    0,    0,    0,    0,    0,    0,    0]])>, <tf.Tensor: shape=(), dtype=int32, numpy=0>)\n"
          ]
        }
      ]
    },
    {
      "cell_type": "markdown",
      "source": [
        "We can lookup the token (string) that each integer corresponds to by calling .get_vocabulary() on the layer."
      ],
      "metadata": {
        "id": "MqXx3vl75-ja"
      }
    },
    {
      "cell_type": "code",
      "source": [
        "print(\"1287 ---> \",vectorize_layer.get_vocabulary()[1287])\n",
        "print(\" 313 ---> \",vectorize_layer.get_vocabulary()[313])\n",
        "print('Vocabulary size: {}'.format(len(vectorize_layer.get_vocabulary())))"
      ],
      "metadata": {
        "colab": {
          "base_uri": "https://localhost:8080/"
        },
        "id": "pByiCaQoRLVi",
        "outputId": "3644ea14-06d2-4e03-9ae1-c7535c871063"
      },
      "execution_count": 53,
      "outputs": [
        {
          "output_type": "stream",
          "name": "stdout",
          "text": [
            "1287 --->  silent\n",
            " 313 --->  night\n",
            "Vocabulary size: 10000\n"
          ]
        }
      ]
    },
    {
      "cell_type": "markdown",
      "source": [
        "We are ready to create model. Before that, we will apply the TextVectorization layer to the train, validation and test set."
      ],
      "metadata": {
        "id": "wa5BBdt76Nte"
      }
    },
    {
      "cell_type": "code",
      "source": [
        "train_ds = raw_train_ds.map(vectorize_text)\n",
        "val_ds = raw_val_ds.map(vectorize_text)\n",
        "test_ds = raw_test_ds.map(vectorize_text)"
      ],
      "metadata": {
        "id": "zXkenpoxROkS"
      },
      "execution_count": 54,
      "outputs": []
    },
    {
      "cell_type": "markdown",
      "source": [
        "**Performance**\n",
        "\n",
        "Following are the 2 important methods we use for loading data to make sure that I/O does not become a blocker.\n",
        "\n",
        "`.cache()` = keeps the data in memory after it is loaded off disk.\n",
        "\n",
        "This will ensure that dataset doesnt become blocker while training the model.\n",
        "\n",
        "What if the dataset is loo large to fit into the memory? \n",
        "Ans: We can also create a performant on-disk cache, which is more efficient to read than many small files.\n",
        "\n",
        "`.prefetch()` = overlaps data preprocessing and model execution while training.\n",
        "\n",
        "There are more techniques of data performance optimization - https://www.tensorflow.org/guide/data_performance\n"
      ],
      "metadata": {
        "id": "n9E0hHWV6hw5"
      }
    },
    {
      "cell_type": "code",
      "source": [
        "AUTOTUNE = tf.data.AUTOTUNE\n",
        "\n",
        "train_ds = train_ds.cache().prefetch(buffer_size=AUTOTUNE)\n",
        "val_ds = val_ds.cache().prefetch(buffer_size=AUTOTUNE)\n",
        "test_ds = test_ds.cache().prefetch(buffer_size=AUTOTUNE)"
      ],
      "metadata": {
        "id": "GgkMdh8-RQgL"
      },
      "execution_count": 55,
      "outputs": []
    },
    {
      "cell_type": "markdown",
      "source": [
        "**CREATE MODEL**"
      ],
      "metadata": {
        "id": "QUkcpFsF8mix"
      }
    },
    {
      "cell_type": "code",
      "source": [
        "embedding_dim = 16"
      ],
      "metadata": {
        "id": "Y1WQlyS4RSZj"
      },
      "execution_count": 56,
      "outputs": []
    },
    {
      "cell_type": "code",
      "source": [
        "model = tf.keras.Sequential([\n",
        "  layers.Embedding(max_features + 1, embedding_dim),\n",
        "  layers.Dropout(0.2),\n",
        "  layers.GlobalAveragePooling1D(),\n",
        "  layers.Dropout(0.2),\n",
        "  layers.Dense(1)])\n",
        "\n",
        "model.summary()"
      ],
      "metadata": {
        "colab": {
          "base_uri": "https://localhost:8080/"
        },
        "id": "wy65eicfRUNP",
        "outputId": "9d4ce3e5-486d-4390-c6e2-b317f6ff4635"
      },
      "execution_count": 57,
      "outputs": [
        {
          "output_type": "stream",
          "name": "stdout",
          "text": [
            "Model: \"sequential_2\"\n",
            "_________________________________________________________________\n",
            " Layer (type)                Output Shape              Param #   \n",
            "=================================================================\n",
            " embedding_1 (Embedding)     (None, None, 16)          160016    \n",
            "                                                                 \n",
            " dropout_2 (Dropout)         (None, None, 16)          0         \n",
            "                                                                 \n",
            " global_average_pooling1d_1   (None, 16)               0         \n",
            " (GlobalAveragePooling1D)                                        \n",
            "                                                                 \n",
            " dropout_3 (Dropout)         (None, 16)                0         \n",
            "                                                                 \n",
            " dense_1 (Dense)             (None, 1)                 17        \n",
            "                                                                 \n",
            "=================================================================\n",
            "Total params: 160,033\n",
            "Trainable params: 160,033\n",
            "Non-trainable params: 0\n",
            "_________________________________________________________________\n"
          ]
        }
      ]
    },
    {
      "cell_type": "markdown",
      "source": [
        "**The layers are stacked sequentially to build the classifier.**\n",
        "\n",
        "1. The first layer is Embedding layer.\n",
        "Each takes up the integer coded reviews and looks up an embedding vector for each word-index.\n",
        "These vectors are learned as the model trains.\n",
        "The vectors add a dimension to the output array.\n",
        "The resulting dimension are (batch, sequence, embedding). To learn more - https://www.tensorflow.org/text/guide/word_embeddings\n",
        "\n",
        "2. GlobalAveragePooling1D returns a fixed length output vector for each example by averaging over sequence dimension. \n",
        "This allows the model to handle the input of variable length.\n",
        "\n",
        "3. The fixed length output vector is piped through the fully connected (dense) layer with 16 hidden units.\n",
        "\n",
        "4. The last layer is connected to the single output node.\n"
      ],
      "metadata": {
        "id": "Wf9oYj1-8vEz"
      }
    },
    {
      "cell_type": "markdown",
      "source": [
        "**Loss Function and Optimizer**\n",
        "\n",
        "The model needs the loss function and the optimizer for the training. \n",
        "\n",
        "Since this is the binary classification problem and the model outputs the probability (a single-unit layer with sigmoid activitation), we will use losses.BinaryCrossentropy loss function"
      ],
      "metadata": {
        "id": "vLfqUbRT_dbz"
      }
    },
    {
      "cell_type": "code",
      "source": [
        "model.compile(loss=losses.BinaryCrossentropy(from_logits=True),\n",
        "              optimizer='adam',\n",
        "              metrics=tf.metrics.BinaryAccuracy(threshold=0.0))"
      ],
      "metadata": {
        "id": "1IrEz1kWRWJ1"
      },
      "execution_count": 58,
      "outputs": []
    },
    {
      "cell_type": "markdown",
      "source": [
        "**Train the model**\n",
        "\n",
        "We will train the model by passing the dataset object to the fit method."
      ],
      "metadata": {
        "id": "P5AGvm6RA2uj"
      }
    },
    {
      "cell_type": "code",
      "source": [
        "epochs = 10\n",
        "history = model.fit(\n",
        "    train_ds,\n",
        "    validation_data=val_ds,\n",
        "    epochs=epochs)"
      ],
      "metadata": {
        "colab": {
          "base_uri": "https://localhost:8080/"
        },
        "id": "6C54dzKARZe7",
        "outputId": "9dc8b6d1-5f6e-4769-feef-7f4054ebbb1c"
      },
      "execution_count": 59,
      "outputs": [
        {
          "output_type": "stream",
          "name": "stdout",
          "text": [
            "Epoch 1/10\n",
            "625/625 [==============================] - 11s 16ms/step - loss: 0.6643 - binary_accuracy: 0.6946 - val_loss: 0.6150 - val_binary_accuracy: 0.7736\n",
            "Epoch 2/10\n",
            "625/625 [==============================] - 4s 7ms/step - loss: 0.5484 - binary_accuracy: 0.8025 - val_loss: 0.4979 - val_binary_accuracy: 0.8228\n",
            "Epoch 3/10\n",
            "625/625 [==============================] - 4s 7ms/step - loss: 0.4440 - binary_accuracy: 0.8450 - val_loss: 0.4197 - val_binary_accuracy: 0.8468\n",
            "Epoch 4/10\n",
            "625/625 [==============================] - 4s 7ms/step - loss: 0.3778 - binary_accuracy: 0.8671 - val_loss: 0.3732 - val_binary_accuracy: 0.8610\n",
            "Epoch 5/10\n",
            "625/625 [==============================] - 4s 7ms/step - loss: 0.3349 - binary_accuracy: 0.8805 - val_loss: 0.3447 - val_binary_accuracy: 0.8684\n",
            "Epoch 6/10\n",
            "625/625 [==============================] - 4s 7ms/step - loss: 0.3053 - binary_accuracy: 0.8892 - val_loss: 0.3257 - val_binary_accuracy: 0.8734\n",
            "Epoch 7/10\n",
            "625/625 [==============================] - 4s 7ms/step - loss: 0.2805 - binary_accuracy: 0.8967 - val_loss: 0.3126 - val_binary_accuracy: 0.8736\n",
            "Epoch 8/10\n",
            "625/625 [==============================] - 4s 7ms/step - loss: 0.2606 - binary_accuracy: 0.9042 - val_loss: 0.3031 - val_binary_accuracy: 0.8760\n",
            "Epoch 9/10\n",
            "625/625 [==============================] - 4s 7ms/step - loss: 0.2444 - binary_accuracy: 0.9111 - val_loss: 0.2963 - val_binary_accuracy: 0.8784\n",
            "Epoch 10/10\n",
            "625/625 [==============================] - 4s 7ms/step - loss: 0.2308 - binary_accuracy: 0.9173 - val_loss: 0.2919 - val_binary_accuracy: 0.8788\n"
          ]
        }
      ]
    },
    {
      "cell_type": "markdown",
      "source": [
        "**Evaluate the mode**\n",
        "\n",
        "2 values will be returned - Loss and Accuracy."
      ],
      "metadata": {
        "id": "EUoHE-xEBYBa"
      }
    },
    {
      "cell_type": "code",
      "source": [
        "loss, accuracy = model.evaluate(test_ds)\n",
        "\n",
        "print(\"Loss: \", loss)\n",
        "print(\"Accuracy: \", accuracy)"
      ],
      "metadata": {
        "colab": {
          "base_uri": "https://localhost:8080/"
        },
        "id": "hQXyQWEVRbTC",
        "outputId": "8d0d61e1-e446-47dd-a7a4-10e99c84a464"
      },
      "execution_count": 60,
      "outputs": [
        {
          "output_type": "stream",
          "name": "stdout",
          "text": [
            "782/782 [==============================] - 8s 10ms/step - loss: 0.3100 - binary_accuracy: 0.8732\n",
            "Loss:  0.3100190758705139\n",
            "Accuracy:  0.873199999332428\n"
          ]
        }
      ]
    },
    {
      "cell_type": "markdown",
      "source": [
        "This fairly naive approach got the accuracy of 87%"
      ],
      "metadata": {
        "id": "LPZAmIylBoGR"
      }
    },
    {
      "cell_type": "markdown",
      "source": [
        "We will create the plot of accuracy and loss over time.\n",
        "\n",
        "`model.fit()` returns the `History` object.\n",
        "\n",
        "It contains the dictionary with everything that happened during the training. "
      ],
      "metadata": {
        "id": "WO4TsHZPBzr6"
      }
    },
    {
      "cell_type": "code",
      "source": [
        "history_dict = history.history\n",
        "history_dict.keys()"
      ],
      "metadata": {
        "colab": {
          "base_uri": "https://localhost:8080/"
        },
        "id": "wV4pwxyjRhPc",
        "outputId": "5cfec1bf-427d-4f29-cbb0-7428ddef5476"
      },
      "execution_count": 27,
      "outputs": [
        {
          "output_type": "execute_result",
          "data": {
            "text/plain": [
              "dict_keys(['loss', 'binary_accuracy', 'val_loss', 'val_binary_accuracy'])"
            ]
          },
          "metadata": {},
          "execution_count": 27
        }
      ]
    },
    {
      "cell_type": "markdown",
      "source": [
        "There are four entries: one for each monitored metric during training and validation. You can use these to plot the training and validation loss for comparison, as well as the training and validation accuracy:"
      ],
      "metadata": {
        "id": "AO_74whPCRnV"
      }
    },
    {
      "cell_type": "code",
      "source": [
        "acc = history_dict['binary_accuracy']\n",
        "val_acc = history_dict['val_binary_accuracy']\n",
        "loss = history_dict['loss']\n",
        "val_loss = history_dict['val_loss']\n",
        "\n",
        "epochs = range(1, len(acc) + 1)\n",
        "\n",
        "# \"bo\" is for \"blue dot\"\n",
        "plt.plot(epochs, loss, 'bo', label='Training loss')\n",
        "# b is for \"solid blue line\"\n",
        "plt.plot(epochs, val_loss, 'b', label='Validation loss')\n",
        "plt.title('Training and validation loss')\n",
        "plt.xlabel('Epochs')\n",
        "plt.ylabel('Loss')\n",
        "plt.legend()\n",
        "\n",
        "plt.show()"
      ],
      "metadata": {
        "colab": {
          "base_uri": "https://localhost:8080/",
          "height": 295
        },
        "id": "HhS4ipbKRngD",
        "outputId": "c207d523-8071-4ee6-d5a2-258769a40069"
      },
      "execution_count": 61,
      "outputs": [
        {
          "output_type": "display_data",
          "data": {
            "text/plain": [
              "<Figure size 432x288 with 1 Axes>"
            ],
            "image/png": "[encoded data removed]"
          },
          "metadata": {
            "needs_background": "light"
          }
        }
      ]
    },
    {
      "cell_type": "code",
      "source": [
        "plt.plot(epochs, acc, 'bo', label='Training acc')\n",
        "plt.plot(epochs, val_acc, 'b', label='Validation acc')\n",
        "plt.title('Training and validation accuracy')\n",
        "plt.xlabel('Epochs')\n",
        "plt.ylabel('Accuracy')\n",
        "plt.legend(loc='lower right')\n",
        "\n",
        "plt.show()"
      ],
      "metadata": {
        "colab": {
          "base_uri": "https://localhost:8080/",
          "height": 295
        },
        "id": "SUrOfY7bRpeb",
        "outputId": "71d0071d-c91d-4adc-d316-86bc7e11a463"
      },
      "execution_count": 62,
      "outputs": [
        {
          "output_type": "display_data",
          "data": {
            "text/plain": [
              "<Figure size 432x288 with 1 Axes>"
            ],
            "image/png": "[encoded data removed]"
          },
          "metadata": {
            "needs_background": "light"
          }
        }
      ]
    },
    {
      "cell_type": "markdown",
      "source": [
        "In this plot, the dots represent the training loss and accuracy, and the solid lines are the validation loss and accuracy.\n",
        "\n",
        "General Learning scenario:\n",
        "\n",
        "**Notice the training loss decreases with each epoch and the training accuracy increases with each epoch. This is expected when using a gradient descent optimization—it should minimize the desired quantity on every iteration.**\n",
        "\n",
        "Overfitting scenario:\n",
        "\n",
        "**This isn't the case for the validation loss and accuracy—they seem to peak before the training accuracy. This is an example of overfitting: the model performs better on the training data than it does on data it has never seen before.**\n",
        "\n",
        "Over-Optimization Scenario:\n",
        "\n",
        "**After this point, the model over-optimizes and learns representations specific to the training data that do not generalize to test data.**\n",
        "\n",
        "How to stop overfitting from happening?\n",
        "\n",
        "**For this particular case, you could prevent overfitting by simply stopping the training when the validation accuracy is no longer increasing.**\n",
        "\n",
        "One way to do so is to use the tf.keras.callbacks.EarlyStopping callback."
      ],
      "metadata": {
        "id": "EeZpsa7sCcuZ"
      }
    },
    {
      "cell_type": "markdown",
      "source": [
        "EXPORT THE MODEL\n",
        "\n",
        "In the code above, you applied the TextVectorization layer to the dataset before feeding text to the model. \n",
        "\n",
        "If you want to make your model capable of processing raw strings (for example, to simplify deploying it), you can include the TextVectorization layer inside your model. To do so, you can create a new model using the weights you just trained."
      ],
      "metadata": {
        "id": "mNWdSiwfDn16"
      }
    },
    {
      "cell_type": "code",
      "source": [
        "export_model = tf.keras.Sequential([\n",
        "  vectorize_layer,\n",
        "  model,\n",
        "  layers.Activation('sigmoid')\n",
        "])\n",
        "\n",
        "export_model.compile(\n",
        "    loss=losses.BinaryCrossentropy(from_logits=False), optimizer=\"adam\", metrics=['accuracy']\n",
        ")\n",
        "\n",
        "# Test it with `raw_test_ds`, which yields raw strings\n",
        "loss, accuracy = export_model.evaluate(raw_test_ds)\n",
        "print(accuracy)"
      ],
      "metadata": {
        "colab": {
          "base_uri": "https://localhost:8080/"
        },
        "id": "jPGKxwHoRsny",
        "outputId": "fd138c46-38e1-4140-bfba-d910093abe30"
      },
      "execution_count": 63,
      "outputs": [
        {
          "output_type": "stream",
          "name": "stdout",
          "text": [
            "782/782 [==============================] - 9s 11ms/step - loss: 0.3100 - accuracy: 0.8732\n",
            "0.873199999332428\n"
          ]
        }
      ]
    },
    {
      "cell_type": "markdown",
      "source": [
        "**Inference on new data**\n",
        "\n",
        "To get predictions for new examples, you can simply call model.predict()"
      ],
      "metadata": {
        "id": "ZFmaUA6sD2aR"
      }
    },
    {
      "cell_type": "code",
      "source": [
        "examples = [\n",
        "  \"The movie was great!\",\n",
        "  \"The movie was okay.\",\n",
        "  \"The movie was terrible...\"\n",
        "]\n",
        "\n",
        "export_model.predict(examples)\n"
      ],
      "metadata": {
        "colab": {
          "base_uri": "https://localhost:8080/"
        },
        "id": "Fz7PzXYtRvgU",
        "outputId": "5b9c70bd-0c20-40dc-d302-1566178fe5ab"
      },
      "execution_count": 33,
      "outputs": [
        {
          "output_type": "execute_result",
          "data": {
            "text/plain": [
              "array([[0.59790313],\n",
              "       [0.41940245],\n",
              "       [0.33875468]], dtype=float32)"
            ]
          },
          "metadata": {},
          "execution_count": 33
        }
      ]
    },
    {
      "cell_type": "markdown",
      "source": [
        "Including the text preprocessing logic inside your model enables you to export a model for production that simplifies deployment, and reduces the potential for train/test skew. \n",
        "\n",
        "https://developers.google.com/machine-learning/guides/rules-of-ml#training-serving_skew\n",
        "\n",
        "There is a performance difference to keep in mind when choosing where to apply your TextVectorization layer. Using it outside of your model enables you to do asynchronous CPU processing and buffering of your data when training on GPU. So, if you're training your model on the GPU, you probably want to go with this option to get the best performance while developing your model, then switch to including the TextVectorization layer inside your model when you're ready to prepare for deployment.\n",
        "\n",
        "Visit this tutorial to learn more about saving models.\n",
        "\n",
        "https://www.tensorflow.org/tutorials/keras/save_and_load\n",
        "\n"
      ],
      "metadata": {
        "id": "FomOi9nZD9DJ"
      }
    },
    {
      "cell_type": "code",
      "source": [
        ""
      ],
      "metadata": {
        "id": "PYMCbkmSR91C"
      },
      "execution_count": null,
      "outputs": []
    }
  ]
}