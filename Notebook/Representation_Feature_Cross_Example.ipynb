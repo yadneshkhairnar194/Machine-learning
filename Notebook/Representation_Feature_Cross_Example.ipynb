{
  "nbformat": 4,
  "nbformat_minor": 0,
  "metadata": {
    "colab": {
      "name": "Representation: Feature Cross Example.ipynb",
      "provenance": []
    },
    "kernelspec": {
      "name": "python3",
      "display_name": "Python 3"
    },
    "language_info": {
      "name": "python"
    }
  },
  "cells": [
    {
      "cell_type": "markdown",
      "source": [
        "## The Dataset\n",
        "  \n",
        "Like several of the previous Colabs, this exercise uses the [California Housing Dataset](https://developers.google.com/machine-learning/crash-course/california-housing-data-description)."
      ],
      "metadata": {
        "id": "M0eDJoDp-_2o"
      }
    },
    {
      "cell_type": "code",
      "source": [
        "%tensorflow_version 2.x"
      ],
      "metadata": {
        "id": "w2IfE1rJ_Ayd"
      },
      "execution_count": 1,
      "outputs": []
    },
    {
      "cell_type": "code",
      "source": [
        "#@title Load the imports\n",
        "\n",
        "# from __future__ import absolute_import, division, print_function, unicode_literals\n",
        "\n",
        "import numpy as np\n",
        "import pandas as pd\n",
        "import tensorflow as tf\n",
        "from tensorflow import feature_column\n",
        "from tensorflow.keras import layers\n",
        "\n",
        "from matplotlib import pyplot as plt\n",
        "\n",
        "# The following lines adjust the granularity of reporting.\n",
        "pd.options.display.max_rows = 10\n",
        "pd.options.display.float_format = \"{:.1f}\".format\n",
        "\n",
        "tf.keras.backend.set_floatx('float32')\n",
        "\n",
        "print(\"Imported the modules.\")"
      ],
      "metadata": {
        "colab": {
          "base_uri": "https://localhost:8080/"
        },
        "id": "aYPj-dmj_D1j",
        "outputId": "e0371f52-9888-4796-d78f-a9b9cab058c6"
      },
      "execution_count": 1,
      "outputs": [
        {
          "output_type": "stream",
          "name": "stdout",
          "text": [
            "Imported the modules.\n"
          ]
        }
      ]
    },
    {
      "cell_type": "markdown",
      "source": [
        "## Load, scale, and shuffle the examples\n",
        "\n",
        "The following code cell loads the separate .csv files and creates the following two pandas DataFrames:\n",
        "\n",
        "* `train_df`, which contains the training set\n",
        "* `test_df`, which contains the test set\n",
        "\n",
        "The code cell then scales the `median_house_value` to a more human-friendly range and then shuffles the examples."
      ],
      "metadata": {
        "id": "cv1iInSK_jln"
      }
    },
    {
      "cell_type": "code",
      "source": [
        "# Load the dataset\n",
        "train_df = pd.read_csv(\"https://download.mlcc.google.com/mledu-datasets/california_housing_train.csv\")\n",
        "test_df = pd.read_csv(\"https://download.mlcc.google.com/mledu-datasets/california_housing_test.csv\")\n",
        "\n"
      ],
      "metadata": {
        "id": "dzDDUbHC_cLH"
      },
      "execution_count": 2,
      "outputs": []
    },
    {
      "cell_type": "code",
      "source": [
        "train_df"
      ],
      "metadata": {
        "colab": {
          "base_uri": "https://localhost:8080/",
          "height": 424
        },
        "id": "gFhmONf7J3aG",
        "outputId": "cf28a3e4-e407-42a4-96e8-1b1188a56410"
      },
      "execution_count": 3,
      "outputs": [
        {
          "output_type": "execute_result",
          "data": {
            "text/plain": [
              "       longitude  latitude  housing_median_age  total_rooms  total_bedrooms  \\\n",
              "0         -114.3      34.2                15.0       5612.0          1283.0   \n",
              "1         -114.5      34.4                19.0       7650.0          1901.0   \n",
              "2         -114.6      33.7                17.0        720.0           174.0   \n",
              "3         -114.6      33.6                14.0       1501.0           337.0   \n",
              "4         -114.6      33.6                20.0       1454.0           326.0   \n",
              "...          ...       ...                 ...          ...             ...   \n",
              "16995     -124.3      40.6                52.0       2217.0           394.0   \n",
              "16996     -124.3      40.7                36.0       2349.0           528.0   \n",
              "16997     -124.3      41.8                17.0       2677.0           531.0   \n",
              "16998     -124.3      41.8                19.0       2672.0           552.0   \n",
              "16999     -124.3      40.5                52.0       1820.0           300.0   \n",
              "\n",
              "       population  households  median_income  median_house_value  \n",
              "0          1015.0       472.0            1.5             66900.0  \n",
              "1          1129.0       463.0            1.8             80100.0  \n",
              "2           333.0       117.0            1.7             85700.0  \n",
              "3           515.0       226.0            3.2             73400.0  \n",
              "4           624.0       262.0            1.9             65500.0  \n",
              "...           ...         ...            ...                 ...  \n",
              "16995       907.0       369.0            2.4            111400.0  \n",
              "16996      1194.0       465.0            2.5             79000.0  \n",
              "16997      1244.0       456.0            3.0            103600.0  \n",
              "16998      1298.0       478.0            2.0             85800.0  \n",
              "16999       806.0       270.0            3.0             94600.0  \n",
              "\n",
              "[17000 rows x 9 columns]"
            ],
            "text/html": [
              "\n",
              "  <div id=\"df-bcdaf25c-4d05-4834-8886-22293f044343\">\n",
              "    <div class=\"colab-df-container\">\n",
              "      <div>\n",
              "<style scoped>\n",
              "    .dataframe tbody tr th:only-of-type {\n",
              "        vertical-align: middle;\n",
              "    }\n",
              "\n",
              "    .dataframe tbody tr th {\n",
              "        vertical-align: top;\n",
              "    }\n",
              "\n",
              "    .dataframe thead th {\n",
              "        text-align: right;\n",
              "    }\n",
              "</style>\n",
              "<table border=\"1\" class=\"dataframe\">\n",
              "  <thead>\n",
              "    <tr style=\"text-align: right;\">\n",
              "      <th></th>\n",
              "      <th>longitude</th>\n",
              "      <th>latitude</th>\n",
              "      <th>housing_median_age</th>\n",
              "      <th>total_rooms</th>\n",
              "      <th>total_bedrooms</th>\n",
              "      <th>population</th>\n",
              "      <th>households</th>\n",
              "      <th>median_income</th>\n",
              "      <th>median_house_value</th>\n",
              "    </tr>\n",
              "  </thead>\n",
              "  <tbody>\n",
              "    <tr>\n",
              "      <th>0</th>\n",
              "      <td>-114.3</td>\n",
              "      <td>34.2</td>\n",
              "      <td>15.0</td>\n",
              "      <td>5612.0</td>\n",
              "      <td>1283.0</td>\n",
              "      <td>1015.0</td>\n",
              "      <td>472.0</td>\n",
              "      <td>1.5</td>\n",
              "      <td>66900.0</td>\n",
              "    </tr>\n",
              "    <tr>\n",
              "      <th>1</th>\n",
              "      <td>-114.5</td>\n",
              "      <td>34.4</td>\n",
              "      <td>19.0</td>\n",
              "      <td>7650.0</td>\n",
              "      <td>1901.0</td>\n",
              "      <td>1129.0</td>\n",
              "      <td>463.0</td>\n",
              "      <td>1.8</td>\n",
              "      <td>80100.0</td>\n",
              "    </tr>\n",
              "    <tr>\n",
              "      <th>2</th>\n",
              "      <td>-114.6</td>\n",
              "      <td>33.7</td>\n",
              "      <td>17.0</td>\n",
              "      <td>720.0</td>\n",
              "      <td>174.0</td>\n",
              "      <td>333.0</td>\n",
              "      <td>117.0</td>\n",
              "      <td>1.7</td>\n",
              "      <td>85700.0</td>\n",
              "    </tr>\n",
              "    <tr>\n",
              "      <th>3</th>\n",
              "      <td>-114.6</td>\n",
              "      <td>33.6</td>\n",
              "      <td>14.0</td>\n",
              "      <td>1501.0</td>\n",
              "      <td>337.0</td>\n",
              "      <td>515.0</td>\n",
              "      <td>226.0</td>\n",
              "      <td>3.2</td>\n",
              "      <td>73400.0</td>\n",
              "    </tr>\n",
              "    <tr>\n",
              "      <th>4</th>\n",
              "      <td>-114.6</td>\n",
              "      <td>33.6</td>\n",
              "      <td>20.0</td>\n",
              "      <td>1454.0</td>\n",
              "      <td>326.0</td>\n",
              "      <td>624.0</td>\n",
              "      <td>262.0</td>\n",
              "      <td>1.9</td>\n",
              "      <td>65500.0</td>\n",
              "    </tr>\n",
              "    <tr>\n",
              "      <th>...</th>\n",
              "      <td>...</td>\n",
              "      <td>...</td>\n",
              "      <td>...</td>\n",
              "      <td>...</td>\n",
              "      <td>...</td>\n",
              "      <td>...</td>\n",
              "      <td>...</td>\n",
              "      <td>...</td>\n",
              "      <td>...</td>\n",
              "    </tr>\n",
              "    <tr>\n",
              "      <th>16995</th>\n",
              "      <td>-124.3</td>\n",
              "      <td>40.6</td>\n",
              "      <td>52.0</td>\n",
              "      <td>2217.0</td>\n",
              "      <td>394.0</td>\n",
              "      <td>907.0</td>\n",
              "      <td>369.0</td>\n",
              "      <td>2.4</td>\n",
              "      <td>111400.0</td>\n",
              "    </tr>\n",
              "    <tr>\n",
              "      <th>16996</th>\n",
              "      <td>-124.3</td>\n",
              "      <td>40.7</td>\n",
              "      <td>36.0</td>\n",
              "      <td>2349.0</td>\n",
              "      <td>528.0</td>\n",
              "      <td>1194.0</td>\n",
              "      <td>465.0</td>\n",
              "      <td>2.5</td>\n",
              "      <td>79000.0</td>\n",
              "    </tr>\n",
              "    <tr>\n",
              "      <th>16997</th>\n",
              "      <td>-124.3</td>\n",
              "      <td>41.8</td>\n",
              "      <td>17.0</td>\n",
              "      <td>2677.0</td>\n",
              "      <td>531.0</td>\n",
              "      <td>1244.0</td>\n",
              "      <td>456.0</td>\n",
              "      <td>3.0</td>\n",
              "      <td>103600.0</td>\n",
              "    </tr>\n",
              "    <tr>\n",
              "      <th>16998</th>\n",
              "      <td>-124.3</td>\n",
              "      <td>41.8</td>\n",
              "      <td>19.0</td>\n",
              "      <td>2672.0</td>\n",
              "      <td>552.0</td>\n",
              "      <td>1298.0</td>\n",
              "      <td>478.0</td>\n",
              "      <td>2.0</td>\n",
              "      <td>85800.0</td>\n",
              "    </tr>\n",
              "    <tr>\n",
              "      <th>16999</th>\n",
              "      <td>-124.3</td>\n",
              "      <td>40.5</td>\n",
              "      <td>52.0</td>\n",
              "      <td>1820.0</td>\n",
              "      <td>300.0</td>\n",
              "      <td>806.0</td>\n",
              "      <td>270.0</td>\n",
              "      <td>3.0</td>\n",
              "      <td>94600.0</td>\n",
              "    </tr>\n",
              "  </tbody>\n",
              "</table>\n",
              "<p>17000 rows × 9 columns</p>\n",
              "</div>\n",
              "      <button class=\"colab-df-convert\" onclick=\"convertToInteractive('df-bcdaf25c-4d05-4834-8886-22293f044343')\"\n",
              "              title=\"Convert this dataframe to an interactive table.\"\n",
              "              style=\"display:none;\">\n",
              "        \n",
              "  <svg xmlns=\"http://www.w3.org/2000/svg\" height=\"24px\"viewBox=\"0 0 24 24\"\n",
              "       width=\"24px\">\n",
              "    <path d=\"M0 0h24v24H0V0z\" fill=\"none\"/>\n",
              "    <path d=\"M18.56 5.44l.94 2.06.94-2.06 2.06-.94-2.06-.94-.94-2.06-.94 2.06-2.06.94zm-11 1L8.5 8.5l.94-2.06 2.06-.94-2.06-.94L8.5 2.5l-.94 2.06-2.06.94zm10 10l.94 2.06.94-2.06 2.06-.94-2.06-.94-.94-2.06-.94 2.06-2.06.94z\"/><path d=\"M17.41 7.96l-1.37-1.37c-.4-.4-.92-.59-1.43-.59-.52 0-1.04.2-1.43.59L10.3 9.45l-7.72 7.72c-.78.78-.78 2.05 0 2.83L4 21.41c.39.39.9.59 1.41.59.51 0 1.02-.2 1.41-.59l7.78-7.78 2.81-2.81c.8-.78.8-2.07 0-2.86zM5.41 20L4 18.59l7.72-7.72 1.47 1.35L5.41 20z\"/>\n",
              "  </svg>\n",
              "      </button>\n",
              "      \n",
              "  <style>\n",
              "    .colab-df-container {\n",
              "      display:flex;\n",
              "      flex-wrap:wrap;\n",
              "      gap: 12px;\n",
              "    }\n",
              "\n",
              "    .colab-df-convert {\n",
              "      background-color: #E8F0FE;\n",
              "      border: none;\n",
              "      border-radius: 50%;\n",
              "      cursor: pointer;\n",
              "      display: none;\n",
              "      fill: #1967D2;\n",
              "      height: 32px;\n",
              "      padding: 0 0 0 0;\n",
              "      width: 32px;\n",
              "    }\n",
              "\n",
              "    .colab-df-convert:hover {\n",
              "      background-color: #E2EBFA;\n",
              "      box-shadow: 0px 1px 2px rgba(60, 64, 67, 0.3), 0px 1px 3px 1px rgba(60, 64, 67, 0.15);\n",
              "      fill: #174EA6;\n",
              "    }\n",
              "\n",
              "    [theme=dark] .colab-df-convert {\n",
              "      background-color: #3B4455;\n",
              "      fill: #D2E3FC;\n",
              "    }\n",
              "\n",
              "    [theme=dark] .colab-df-convert:hover {\n",
              "      background-color: #434B5C;\n",
              "      box-shadow: 0px 1px 3px 1px rgba(0, 0, 0, 0.15);\n",
              "      filter: drop-shadow(0px 1px 2px rgba(0, 0, 0, 0.3));\n",
              "      fill: #FFFFFF;\n",
              "    }\n",
              "  </style>\n",
              "\n",
              "      <script>\n",
              "        const buttonEl =\n",
              "          document.querySelector('#df-bcdaf25c-4d05-4834-8886-22293f044343 button.colab-df-convert');\n",
              "        buttonEl.style.display =\n",
              "          google.colab.kernel.accessAllowed ? 'block' : 'none';\n",
              "\n",
              "        async function convertToInteractive(key) {\n",
              "          const element = document.querySelector('#df-bcdaf25c-4d05-4834-8886-22293f044343');\n",
              "          const dataTable =\n",
              "            await google.colab.kernel.invokeFunction('convertToInteractive',\n",
              "                                                     [key], {});\n",
              "          if (!dataTable) return;\n",
              "\n",
              "          const docLinkHtml = 'Like what you see? Visit the ' +\n",
              "            '<a target=\"_blank\" href=https://colab.research.google.com/notebooks/data_table.ipynb>data table notebook</a>'\n",
              "            + ' to learn more about interactive tables.';\n",
              "          element.innerHTML = '';\n",
              "          dataTable['output_type'] = 'display_data';\n",
              "          await google.colab.output.renderOutput(dataTable, element);\n",
              "          const docLink = document.createElement('div');\n",
              "          docLink.innerHTML = docLinkHtml;\n",
              "          element.appendChild(docLink);\n",
              "        }\n",
              "      </script>\n",
              "    </div>\n",
              "  </div>\n",
              "  "
            ]
          },
          "metadata": {},
          "execution_count": 3
        }
      ]
    },
    {
      "cell_type": "code",
      "source": [
        "# Scale the labels\n",
        "scale_factor = 1000.0\n",
        "# Scale the training set's label.\n",
        "train_df[\"median_house_value\"] /= scale_factor \n",
        "\n",
        "# Scale the test set's label\n",
        "test_df[\"median_house_value\"] /= scale_factor\n",
        "\n",
        "# Shuffle the examples\n",
        "train_df = train_df.reindex(np.random.permutation(train_df.index))"
      ],
      "metadata": {
        "id": "R0H0lFfVKLkg"
      },
      "execution_count": 4,
      "outputs": []
    },
    {
      "cell_type": "markdown",
      "source": [
        "## Represent latitude and longitude as floating-point values\n",
        "\n",
        "Previous Colabs trained on only a single feature or a single synthetic feature. By contrast, this exercise trains on two features. Furthermore, this Colab introduces **feature columns**, which provide a sophisticated way to represent features.  \n",
        "\n",
        "You create feature columns as possible:\n",
        "\n",
        "  * Call a [`tf.feature_column`](https://www.tensorflow.org/api_docs/python/tf/feature_column) method to represent a single feature, single feature cross, or single synthetic feature in the desired way.  For example, to represent a certain feature as floating-point values, call [`tf.feature_column.numeric_column`](https://www.tensorflow.org/api_docs/python/tf/feature_column/numeric_column). To represent a certain feature as a series of buckets or bins, call [`tf.feature_column.bucketized_column`](https://www.tensorflow.org/api_docs/python/tf/feature_column/bucketized_column).\n",
        "  * Assemble the created representations into a Python list. \n",
        "\n",
        "A neighborhood's location is typically the most important feature in determining a house's value. The California Housing dataset provides two features, `latitude` and `longitude` that identify each neighborhood's location. \n",
        "\n",
        "The following code cell calls [`tf.feature_column.numeric_column`](https://www.tensorflow.org/api_docs/python/tf/feature_column/numeric_column) twice, first to represent `latitude` as floating-point value and a second time to represent `longitude` as floating-point values. \n",
        "\n",
        "This code cell specifies the features that you'll ultimately train the model on and how each of those features will be represented. The transformations (collected in `fp_feature_layer`) don't actually get applied until you pass a DataFrame to it, which will happen when we train the model. \n"
      ],
      "metadata": {
        "id": "mDZnYQcP_yqP"
      }
    },
    {
      "cell_type": "code",
      "source": [
        "train_df[['latitude', 'longitude']]"
      ],
      "metadata": {
        "colab": {
          "base_uri": "https://localhost:8080/",
          "height": 424
        },
        "id": "SWgZlgJbKr5n",
        "outputId": "6cb6ae40-3f23-442f-caed-1eb2fdf2e8b3"
      },
      "execution_count": 5,
      "outputs": [
        {
          "output_type": "execute_result",
          "data": {
            "text/plain": [
              "       latitude  longitude\n",
              "16304      37.9     -122.5\n",
              "4304       33.9     -118.0\n",
              "15102      38.1     -122.3\n",
              "13269      37.2     -121.9\n",
              "4851       33.7     -118.1\n",
              "...         ...        ...\n",
              "2425       33.9     -117.6\n",
              "2097       33.2     -117.3\n",
              "13865      37.3     -122.0\n",
              "9687       36.1     -119.6\n",
              "10523      35.0     -120.4\n",
              "\n",
              "[17000 rows x 2 columns]"
            ],
            "text/html": [
              "\n",
              "  <div id=\"df-b5e06e2a-6c83-4852-93b1-b116890b410e\">\n",
              "    <div class=\"colab-df-container\">\n",
              "      <div>\n",
              "<style scoped>\n",
              "    .dataframe tbody tr th:only-of-type {\n",
              "        vertical-align: middle;\n",
              "    }\n",
              "\n",
              "    .dataframe tbody tr th {\n",
              "        vertical-align: top;\n",
              "    }\n",
              "\n",
              "    .dataframe thead th {\n",
              "        text-align: right;\n",
              "    }\n",
              "</style>\n",
              "<table border=\"1\" class=\"dataframe\">\n",
              "  <thead>\n",
              "    <tr style=\"text-align: right;\">\n",
              "      <th></th>\n",
              "      <th>latitude</th>\n",
              "      <th>longitude</th>\n",
              "    </tr>\n",
              "  </thead>\n",
              "  <tbody>\n",
              "    <tr>\n",
              "      <th>16304</th>\n",
              "      <td>37.9</td>\n",
              "      <td>-122.5</td>\n",
              "    </tr>\n",
              "    <tr>\n",
              "      <th>4304</th>\n",
              "      <td>33.9</td>\n",
              "      <td>-118.0</td>\n",
              "    </tr>\n",
              "    <tr>\n",
              "      <th>15102</th>\n",
              "      <td>38.1</td>\n",
              "      <td>-122.3</td>\n",
              "    </tr>\n",
              "    <tr>\n",
              "      <th>13269</th>\n",
              "      <td>37.2</td>\n",
              "      <td>-121.9</td>\n",
              "    </tr>\n",
              "    <tr>\n",
              "      <th>4851</th>\n",
              "      <td>33.7</td>\n",
              "      <td>-118.1</td>\n",
              "    </tr>\n",
              "    <tr>\n",
              "      <th>...</th>\n",
              "      <td>...</td>\n",
              "      <td>...</td>\n",
              "    </tr>\n",
              "    <tr>\n",
              "      <th>2425</th>\n",
              "      <td>33.9</td>\n",
              "      <td>-117.6</td>\n",
              "    </tr>\n",
              "    <tr>\n",
              "      <th>2097</th>\n",
              "      <td>33.2</td>\n",
              "      <td>-117.3</td>\n",
              "    </tr>\n",
              "    <tr>\n",
              "      <th>13865</th>\n",
              "      <td>37.3</td>\n",
              "      <td>-122.0</td>\n",
              "    </tr>\n",
              "    <tr>\n",
              "      <th>9687</th>\n",
              "      <td>36.1</td>\n",
              "      <td>-119.6</td>\n",
              "    </tr>\n",
              "    <tr>\n",
              "      <th>10523</th>\n",
              "      <td>35.0</td>\n",
              "      <td>-120.4</td>\n",
              "    </tr>\n",
              "  </tbody>\n",
              "</table>\n",
              "<p>17000 rows × 2 columns</p>\n",
              "</div>\n",
              "      <button class=\"colab-df-convert\" onclick=\"convertToInteractive('df-b5e06e2a-6c83-4852-93b1-b116890b410e')\"\n",
              "              title=\"Convert this dataframe to an interactive table.\"\n",
              "              style=\"display:none;\">\n",
              "        \n",
              "  <svg xmlns=\"http://www.w3.org/2000/svg\" height=\"24px\"viewBox=\"0 0 24 24\"\n",
              "       width=\"24px\">\n",
              "    <path d=\"M0 0h24v24H0V0z\" fill=\"none\"/>\n",
              "    <path d=\"M18.56 5.44l.94 2.06.94-2.06 2.06-.94-2.06-.94-.94-2.06-.94 2.06-2.06.94zm-11 1L8.5 8.5l.94-2.06 2.06-.94-2.06-.94L8.5 2.5l-.94 2.06-2.06.94zm10 10l.94 2.06.94-2.06 2.06-.94-2.06-.94-.94-2.06-.94 2.06-2.06.94z\"/><path d=\"M17.41 7.96l-1.37-1.37c-.4-.4-.92-.59-1.43-.59-.52 0-1.04.2-1.43.59L10.3 9.45l-7.72 7.72c-.78.78-.78 2.05 0 2.83L4 21.41c.39.39.9.59 1.41.59.51 0 1.02-.2 1.41-.59l7.78-7.78 2.81-2.81c.8-.78.8-2.07 0-2.86zM5.41 20L4 18.59l7.72-7.72 1.47 1.35L5.41 20z\"/>\n",
              "  </svg>\n",
              "      </button>\n",
              "      \n",
              "  <style>\n",
              "    .colab-df-container {\n",
              "      display:flex;\n",
              "      flex-wrap:wrap;\n",
              "      gap: 12px;\n",
              "    }\n",
              "\n",
              "    .colab-df-convert {\n",
              "      background-color: #E8F0FE;\n",
              "      border: none;\n",
              "      border-radius: 50%;\n",
              "      cursor: pointer;\n",
              "      display: none;\n",
              "      fill: #1967D2;\n",
              "      height: 32px;\n",
              "      padding: 0 0 0 0;\n",
              "      width: 32px;\n",
              "    }\n",
              "\n",
              "    .colab-df-convert:hover {\n",
              "      background-color: #E2EBFA;\n",
              "      box-shadow: 0px 1px 2px rgba(60, 64, 67, 0.3), 0px 1px 3px 1px rgba(60, 64, 67, 0.15);\n",
              "      fill: #174EA6;\n",
              "    }\n",
              "\n",
              "    [theme=dark] .colab-df-convert {\n",
              "      background-color: #3B4455;\n",
              "      fill: #D2E3FC;\n",
              "    }\n",
              "\n",
              "    [theme=dark] .colab-df-convert:hover {\n",
              "      background-color: #434B5C;\n",
              "      box-shadow: 0px 1px 3px 1px rgba(0, 0, 0, 0.15);\n",
              "      filter: drop-shadow(0px 1px 2px rgba(0, 0, 0, 0.3));\n",
              "      fill: #FFFFFF;\n",
              "    }\n",
              "  </style>\n",
              "\n",
              "      <script>\n",
              "        const buttonEl =\n",
              "          document.querySelector('#df-b5e06e2a-6c83-4852-93b1-b116890b410e button.colab-df-convert');\n",
              "        buttonEl.style.display =\n",
              "          google.colab.kernel.accessAllowed ? 'block' : 'none';\n",
              "\n",
              "        async function convertToInteractive(key) {\n",
              "          const element = document.querySelector('#df-b5e06e2a-6c83-4852-93b1-b116890b410e');\n",
              "          const dataTable =\n",
              "            await google.colab.kernel.invokeFunction('convertToInteractive',\n",
              "                                                     [key], {});\n",
              "          if (!dataTable) return;\n",
              "\n",
              "          const docLinkHtml = 'Like what you see? Visit the ' +\n",
              "            '<a target=\"_blank\" href=https://colab.research.google.com/notebooks/data_table.ipynb>data table notebook</a>'\n",
              "            + ' to learn more about interactive tables.';\n",
              "          element.innerHTML = '';\n",
              "          dataTable['output_type'] = 'display_data';\n",
              "          await google.colab.output.renderOutput(dataTable, element);\n",
              "          const docLink = document.createElement('div');\n",
              "          docLink.innerHTML = docLinkHtml;\n",
              "          element.appendChild(docLink);\n",
              "        }\n",
              "      </script>\n",
              "    </div>\n",
              "  </div>\n",
              "  "
            ]
          },
          "metadata": {},
          "execution_count": 5
        }
      ]
    },
    {
      "cell_type": "code",
      "source": [
        "# Create an empty list that will eventually hold all feature columns.\n",
        "feature_columns = []\n",
        "\n",
        "# Create a numerical feature column to represent latitude.\n",
        "latitude = tf.feature_column.numeric_column(\"latitude\")\n",
        "feature_columns.append(latitude)\n",
        "\n",
        "# Create a numerical feature column to represent longitude.\n",
        "longitude = tf.feature_column.numeric_column(\"longitude\")\n",
        "feature_columns.append(longitude)\n"
      ],
      "metadata": {
        "id": "TCt70LU5_h6j"
      },
      "execution_count": 6,
      "outputs": []
    },
    {
      "cell_type": "code",
      "source": [
        "latitude"
      ],
      "metadata": {
        "colab": {
          "base_uri": "https://localhost:8080/"
        },
        "id": "Z_ZzgZLdLGiH",
        "outputId": "00a31e39-0e07-4654-c180-ba1a66d6977f"
      },
      "execution_count": 8,
      "outputs": [
        {
          "output_type": "execute_result",
          "data": {
            "text/plain": [
              "NumericColumn(key='latitude', shape=(1,), default_value=None, dtype=tf.float32, normalizer_fn=None)"
            ]
          },
          "metadata": {},
          "execution_count": 8
        }
      ]
    },
    {
      "cell_type": "code",
      "source": [
        "feature_columns"
      ],
      "metadata": {
        "colab": {
          "base_uri": "https://localhost:8080/"
        },
        "id": "_SDQx_9tLBk2",
        "outputId": "3f32054f-c7ed-4824-915e-efad65875c91"
      },
      "execution_count": 7,
      "outputs": [
        {
          "output_type": "execute_result",
          "data": {
            "text/plain": [
              "[NumericColumn(key='latitude', shape=(1,), default_value=None, dtype=tf.float32, normalizer_fn=None),\n",
              " NumericColumn(key='longitude', shape=(1,), default_value=None, dtype=tf.float32, normalizer_fn=None)]"
            ]
          },
          "metadata": {},
          "execution_count": 7
        }
      ]
    },
    {
      "cell_type": "code",
      "source": [
        "\n",
        "# Convert the list of feature columns into a layer that will ultimately become\n",
        "# part of the model. Understanding layers is not important right now.\n",
        "fp_feature_layer = layers.DenseFeatures(feature_columns)"
      ],
      "metadata": {
        "id": "qIViakY6K_8u"
      },
      "execution_count": 9,
      "outputs": []
    },
    {
      "cell_type": "code",
      "source": [
        "fp_feature_layer"
      ],
      "metadata": {
        "colab": {
          "base_uri": "https://localhost:8080/"
        },
        "id": "0hUDKJnaLJWh",
        "outputId": "9a46d59b-0565-487f-866f-6383aea2195a"
      },
      "execution_count": 10,
      "outputs": [
        {
          "output_type": "execute_result",
          "data": {
            "text/plain": [
              "<keras.feature_column.dense_features_v2.DenseFeatures at 0x7f708f9ecbd0>"
            ]
          },
          "metadata": {},
          "execution_count": 10
        }
      ]
    },
    {
      "cell_type": "markdown",
      "source": [
        "When used, the layer processes the raw inputs, according to the transformations described by the feature columns, and packs the result into a numeric array.  (The model will train on this numeric array.) "
      ],
      "metadata": {
        "id": "KMxw3lIYAivd"
      }
    },
    {
      "cell_type": "markdown",
      "source": [
        "## Define functions that create and train a model, and a plotting function\n",
        "\n",
        "The following code defines three functions:\n",
        "\n",
        "  * `create_model`, which tells TensorFlow to build a linear regression model and to use the `feature_layer_as_fp` as the representation of the model's features.\n",
        "  * `train_model`, which will ultimately train the model from training set examples.\n",
        "  * `plot_the_loss_curve`, which generates a loss curve."
      ],
      "metadata": {
        "id": "LqaefZo8Amrt"
      }
    },
    {
      "cell_type": "code",
      "source": [
        "#@title Define functions to create and train a model, and a plotting function\n",
        "def create_model(my_learning_rate, feature_layer):\n",
        "  \"\"\"Create and compile a simple linear regression model.\"\"\"\n",
        "  # Most simple tf.keras models are sequential.\n",
        "  model = tf.keras.models.Sequential()\n",
        "\n",
        "  # Add the layer containing the feature columns to the model.\n",
        "  model.add(feature_layer)\n",
        "\n",
        "  # Add one linear layer to the model to yield a simple linear regressor.\n",
        "  model.add(tf.keras.layers.Dense(units=1, input_shape=(1,)))\n",
        "\n",
        "  # Construct the layers into a model that TensorFlow can execute.\n",
        "  model.compile(optimizer=tf.keras.optimizers.RMSprop(lr=my_learning_rate),\n",
        "                loss=\"mean_squared_error\",\n",
        "                metrics=[tf.keras.metrics.RootMeanSquaredError()])\n",
        "\n",
        "  return model           \n",
        "\n",
        "\n",
        "def train_model(model, dataset, epochs, batch_size, label_name):\n",
        "  \"\"\"Feed a dataset into the model in order to train it.\"\"\"\n",
        "\n",
        "  features = {name:np.array(value) for name, value in dataset.items()}\n",
        "  label = np.array(features.pop(label_name))\n",
        "  history = model.fit(x=features, y=label, batch_size=batch_size,\n",
        "                      epochs=epochs, shuffle=True)\n",
        "\n",
        "  # The list of epochs is stored separately from the rest of history.\n",
        "  epochs = history.epoch\n",
        "  \n",
        "  # Isolate the mean absolute error for each epoch.\n",
        "  hist = pd.DataFrame(history.history)\n",
        "  rmse = hist[\"root_mean_squared_error\"]\n",
        "\n",
        "  return epochs, rmse   \n",
        "\n",
        "\n",
        "def plot_the_loss_curve(epochs, rmse):\n",
        "  \"\"\"Plot a curve of loss vs. epoch.\"\"\"\n",
        "\n",
        "  plt.figure()\n",
        "  plt.xlabel(\"Epoch\")\n",
        "  plt.ylabel(\"Root Mean Squared Error\")\n",
        "\n",
        "  plt.plot(epochs, rmse, label=\"Loss\")\n",
        "  plt.legend()\n",
        "  plt.ylim([rmse.min()*0.94, rmse.max()* 1.05])\n",
        "  plt.show()  \n",
        "\n",
        "print(\"Defined the create_model, train_model, and plot_the_loss_curve functions.\")"
      ],
      "metadata": {
        "colab": {
          "base_uri": "https://localhost:8080/"
        },
        "id": "G-fhqrRgAiNE",
        "outputId": "32c796fd-6024-4efc-f30e-461e69748dc6"
      },
      "execution_count": 11,
      "outputs": [
        {
          "output_type": "stream",
          "name": "stdout",
          "text": [
            "Defined the create_model, train_model, and plot_the_loss_curve functions.\n"
          ]
        }
      ]
    },
    {
      "cell_type": "markdown",
      "source": [
        "## Train the model with floating-point representations\n",
        "\n",
        "The following code cell calls the functions you just created to train, plot, and evaluate a model."
      ],
      "metadata": {
        "id": "TtsV9lDwAwxX"
      }
    },
    {
      "cell_type": "code",
      "source": [
        "# The following variables are the hyperparameters.\n",
        "learning_rate = 0.05\n",
        "epochs = 30\n",
        "batch_size = 100\n",
        "label_name = 'median_house_value'\n",
        "\n",
        "# Create and compile the model's topography.\n",
        "my_model = create_model(learning_rate, fp_feature_layer)\n",
        "\n",
        "# Train the model on the training set.\n",
        "epochs, rmse = train_model(my_model, train_df, epochs, batch_size, label_name)\n",
        "\n",
        "plot_the_loss_curve(epochs, rmse)\n",
        "\n",
        "print(\"\\n: Evaluate the new model against the test set:\")\n",
        "test_features = {name:np.array(value) for name, value in test_df.items()}\n",
        "test_label = np.array(test_features.pop(label_name))\n",
        "my_model.evaluate(x=test_features, y=test_label, batch_size=batch_size)"
      ],
      "metadata": {
        "colab": {
          "base_uri": "https://localhost:8080/",
          "height": 1000
        },
        "id": "P4cb-5YfAsYD",
        "outputId": "b1b3ac47-10d1-4915-9276-8ce22b73e6d9"
      },
      "execution_count": 12,
      "outputs": [
        {
          "output_type": "stream",
          "name": "stdout",
          "text": [
            "Epoch 1/30\n",
            "WARNING:tensorflow:Layers in a Sequential model should only have a single input tensor. Received: inputs={'longitude': <tf.Tensor 'IteratorGetNext:3' shape=(100,) dtype=float32>, 'latitude': <tf.Tensor 'IteratorGetNext:2' shape=(100,) dtype=float32>, 'housing_median_age': <tf.Tensor 'IteratorGetNext:1' shape=(100,) dtype=float32>, 'total_rooms': <tf.Tensor 'IteratorGetNext:7' shape=(100,) dtype=float32>, 'total_bedrooms': <tf.Tensor 'IteratorGetNext:6' shape=(100,) dtype=float32>, 'population': <tf.Tensor 'IteratorGetNext:5' shape=(100,) dtype=float32>, 'households': <tf.Tensor 'IteratorGetNext:0' shape=(100,) dtype=float32>, 'median_income': <tf.Tensor 'IteratorGetNext:4' shape=(100,) dtype=float32>}. Consider rewriting this model with the Functional API.\n"
          ]
        },
        {
          "output_type": "stream",
          "name": "stderr",
          "text": [
            "/usr/local/lib/python3.7/dist-packages/keras/optimizer_v2/rmsprop.py:130: UserWarning: The `lr` argument is deprecated, use `learning_rate` instead.\n",
            "  super(RMSprop, self).__init__(name, **kwargs)\n"
          ]
        },
        {
          "output_type": "stream",
          "name": "stdout",
          "text": [
            "WARNING:tensorflow:Layers in a Sequential model should only have a single input tensor. Received: inputs={'longitude': <tf.Tensor 'IteratorGetNext:3' shape=(100,) dtype=float32>, 'latitude': <tf.Tensor 'IteratorGetNext:2' shape=(100,) dtype=float32>, 'housing_median_age': <tf.Tensor 'IteratorGetNext:1' shape=(100,) dtype=float32>, 'total_rooms': <tf.Tensor 'IteratorGetNext:7' shape=(100,) dtype=float32>, 'total_bedrooms': <tf.Tensor 'IteratorGetNext:6' shape=(100,) dtype=float32>, 'population': <tf.Tensor 'IteratorGetNext:5' shape=(100,) dtype=float32>, 'households': <tf.Tensor 'IteratorGetNext:0' shape=(100,) dtype=float32>, 'median_income': <tf.Tensor 'IteratorGetNext:4' shape=(100,) dtype=float32>}. Consider rewriting this model with the Functional API.\n",
            "170/170 [==============================] - 1s 2ms/step - loss: 19877.3340 - root_mean_squared_error: 140.9870\n",
            "Epoch 2/30\n",
            "170/170 [==============================] - 0s 2ms/step - loss: 13588.8848 - root_mean_squared_error: 116.5714\n",
            "Epoch 3/30\n",
            "170/170 [==============================] - 0s 2ms/step - loss: 13536.9736 - root_mean_squared_error: 116.3485\n",
            "Epoch 4/30\n",
            "170/170 [==============================] - 0s 2ms/step - loss: 13475.5537 - root_mean_squared_error: 116.0843\n",
            "Epoch 5/30\n",
            "170/170 [==============================] - 0s 2ms/step - loss: 13431.5234 - root_mean_squared_error: 115.8944\n",
            "Epoch 6/30\n",
            "170/170 [==============================] - 0s 2ms/step - loss: 13380.3789 - root_mean_squared_error: 115.6736\n",
            "Epoch 7/30\n",
            "170/170 [==============================] - 0s 2ms/step - loss: 13359.8857 - root_mean_squared_error: 115.5850\n",
            "Epoch 8/30\n",
            "170/170 [==============================] - 0s 2ms/step - loss: 13291.5566 - root_mean_squared_error: 115.2890\n",
            "Epoch 9/30\n",
            "170/170 [==============================] - 0s 2ms/step - loss: 13263.6113 - root_mean_squared_error: 115.1678\n",
            "Epoch 10/30\n",
            "170/170 [==============================] - 0s 2ms/step - loss: 13228.5254 - root_mean_squared_error: 115.0153\n",
            "Epoch 11/30\n",
            "170/170 [==============================] - 0s 2ms/step - loss: 13189.4326 - root_mean_squared_error: 114.8453\n",
            "Epoch 12/30\n",
            "170/170 [==============================] - 0s 2ms/step - loss: 13155.0186 - root_mean_squared_error: 114.6953\n",
            "Epoch 13/30\n",
            "170/170 [==============================] - 0s 2ms/step - loss: 13127.7529 - root_mean_squared_error: 114.5764\n",
            "Epoch 14/30\n",
            "170/170 [==============================] - 0s 2ms/step - loss: 13097.4014 - root_mean_squared_error: 114.4439\n",
            "Epoch 15/30\n",
            "170/170 [==============================] - 0s 2ms/step - loss: 13088.7139 - root_mean_squared_error: 114.4059\n",
            "Epoch 16/30\n",
            "170/170 [==============================] - 0s 2ms/step - loss: 13068.5156 - root_mean_squared_error: 114.3176\n",
            "Epoch 17/30\n",
            "170/170 [==============================] - 0s 2ms/step - loss: 13031.6387 - root_mean_squared_error: 114.1562\n",
            "Epoch 18/30\n",
            "170/170 [==============================] - 0s 2ms/step - loss: 13013.9434 - root_mean_squared_error: 114.0787\n",
            "Epoch 19/30\n",
            "170/170 [==============================] - 0s 2ms/step - loss: 12991.5566 - root_mean_squared_error: 113.9805\n",
            "Epoch 20/30\n",
            "170/170 [==============================] - 0s 2ms/step - loss: 12980.0762 - root_mean_squared_error: 113.9301\n",
            "Epoch 21/30\n",
            "170/170 [==============================] - 0s 2ms/step - loss: 12964.5693 - root_mean_squared_error: 113.8621\n",
            "Epoch 22/30\n",
            "170/170 [==============================] - 0s 2ms/step - loss: 12949.7549 - root_mean_squared_error: 113.7970\n",
            "Epoch 23/30\n",
            "170/170 [==============================] - 0s 2ms/step - loss: 12938.6074 - root_mean_squared_error: 113.7480\n",
            "Epoch 24/30\n",
            "170/170 [==============================] - 0s 2ms/step - loss: 12915.5957 - root_mean_squared_error: 113.6468\n",
            "Epoch 25/30\n",
            "170/170 [==============================] - 0s 2ms/step - loss: 12917.2969 - root_mean_squared_error: 113.6543\n",
            "Epoch 26/30\n",
            "170/170 [==============================] - 0s 2ms/step - loss: 12890.6924 - root_mean_squared_error: 113.5372\n",
            "Epoch 27/30\n",
            "170/170 [==============================] - 0s 2ms/step - loss: 12889.7275 - root_mean_squared_error: 113.5329\n",
            "Epoch 28/30\n",
            "170/170 [==============================] - 0s 2ms/step - loss: 12878.3594 - root_mean_squared_error: 113.4829\n",
            "Epoch 29/30\n",
            "170/170 [==============================] - 0s 2ms/step - loss: 12872.1211 - root_mean_squared_error: 113.4554\n",
            "Epoch 30/30\n",
            "170/170 [==============================] - 0s 2ms/step - loss: 12856.9658 - root_mean_squared_error: 113.3886\n"
          ]
        },
        {
          "output_type": "display_data",
          "data": {
            "text/plain": [
              "<Figure size 432x288 with 1 Axes>"
            ],
            "image/png": "[encoded data removed]"
          },
          "metadata": {
            "needs_background": "light"
          }
        },
        {
          "output_type": "stream",
          "name": "stdout",
          "text": [
            "\n",
            ": Evaluate the new model against the test set:\n",
            "WARNING:tensorflow:Layers in a Sequential model should only have a single input tensor. Received: inputs={'longitude': <tf.Tensor 'IteratorGetNext:3' shape=(100,) dtype=float32>, 'latitude': <tf.Tensor 'IteratorGetNext:2' shape=(100,) dtype=float32>, 'housing_median_age': <tf.Tensor 'IteratorGetNext:1' shape=(100,) dtype=float32>, 'total_rooms': <tf.Tensor 'IteratorGetNext:7' shape=(100,) dtype=float32>, 'total_bedrooms': <tf.Tensor 'IteratorGetNext:6' shape=(100,) dtype=float32>, 'population': <tf.Tensor 'IteratorGetNext:5' shape=(100,) dtype=float32>, 'households': <tf.Tensor 'IteratorGetNext:0' shape=(100,) dtype=float32>, 'median_income': <tf.Tensor 'IteratorGetNext:4' shape=(100,) dtype=float32>}. Consider rewriting this model with the Functional API.\n",
            "30/30 [==============================] - 0s 2ms/step - loss: 12196.7422 - root_mean_squared_error: 110.4389\n"
          ]
        },
        {
          "output_type": "execute_result",
          "data": {
            "text/plain": [
              "[12196.7421875, 110.43885803222656]"
            ]
          },
          "metadata": {},
          "execution_count": 12
        }
      ]
    },
    {
      "cell_type": "markdown",
      "source": [
        "## Task 1: Why aren't floating-point values a good way to represent latitude and longitude?\n",
        "\n",
        "Are floating-point values a good way to represent `latitude` and `longitude`? "
      ],
      "metadata": {
        "id": "jrccqDr-AzjX"
      }
    },
    {
      "cell_type": "code",
      "source": [
        "#@title Double-click to view an answer to Task 1.\n",
        "\n",
        "# No. Representing latitude and longitude as \n",
        "# floating-point values does not have much \n",
        "# predictive power. For example, neighborhoods at \n",
        "# latitude 35 are not 36/35 more valuable \n",
        "# (or 35/36 less valuable) than houses at \n",
        "# latitude 36.\n",
        "\n",
        "# Representing `latitude` and `longitude` as \n",
        "# floating-point values provides almost no \n",
        "# predictive power. We're only using the raw values \n",
        "# to establish a baseline for future experiments \n",
        "# with better representations."
      ],
      "metadata": {
        "cellView": "form",
        "id": "KpIMQcoOAvY9"
      },
      "execution_count": 13,
      "outputs": []
    },
    {
      "cell_type": "markdown",
      "source": [
        "## Represent latitude and longitude in buckets\n",
        "\n",
        "The following code cell represents latitude and longitude in buckets (bins). Each bin represents all the neighborhoods within a single degree. For example,\n",
        "neighborhoods at latitude 35.4 and 35.8 are in the same bucket, but neighborhoods in latitude 35.4 and 36.2 are in different buckets. \n",
        "\n",
        "The model will learn a separate weight for each bucket. For example, the model will learn one weight for all the neighborhoods in the \"35\" bin\", a different weight for neighborhoods in the \"36\" bin, and so on. This representation will create approximately 20 buckets:\n",
        " \n",
        "  * 10 buckets for `latitude`. \n",
        "  * 10 buckets for `longitude`. "
      ],
      "metadata": {
        "id": "cVVh-9d5MrzX"
      }
    },
    {
      "cell_type": "code",
      "source": [
        "resolution_in_degrees = 1.0 \n",
        "\n",
        "# Create a new empty list that will eventually hold the generated feature column.\n",
        "feature_columns = []\n",
        "\n"
      ],
      "metadata": {
        "id": "Gx13k82xM0MY"
      },
      "execution_count": 14,
      "outputs": []
    },
    {
      "cell_type": "code",
      "source": [
        "# Create a bucket feature column for latitude.\n",
        "latitude_as_a_numeric_column = tf.feature_column.numeric_column(\"latitude\")\n",
        "latitude_boundaries = list(\n",
        "                                          np.arange(\n",
        "                                              int(min(train_df['latitude'])), \n",
        "                                              int(max(train_df['latitude'])), \n",
        "                                              resolution_in_degrees)\n",
        "                                          )\n",
        "latitude = tf.feature_column.bucketized_column(latitude_as_a_numeric_column, latitude_boundaries)\n",
        "feature_columns.append(latitude)\n",
        "\n"
      ],
      "metadata": {
        "id": "2Di6GobANRPe"
      },
      "execution_count": 15,
      "outputs": []
    },
    {
      "cell_type": "code",
      "source": [
        "# Create a bucket feature column for longitude.\n",
        "longitude_as_a_numeric_column = tf.feature_column.numeric_column(\"longitude\")\n",
        "longitude_boundaries = list(np.arange(\n",
        "                                                              int(min(train_df['longitude'])), \n",
        "                                                              int(max(train_df['longitude'])), \n",
        "                                                              resolution_in_degrees\n",
        "                                                              )\n",
        "                                            )\n",
        "longitude = tf.feature_column.bucketized_column(longitude_as_a_numeric_column, \n",
        "                                                longitude_boundaries)\n",
        "feature_columns.append(longitude)\n",
        "\n",
        "# Convert the list of feature columns into a layer that will ultimately become\n",
        "# part of the model. Understanding layers is not important right now.\n",
        "buckets_feature_layer = layers.DenseFeatures(feature_columns)"
      ],
      "metadata": {
        "id": "kihEVVqrNUHO"
      },
      "execution_count": 16,
      "outputs": []
    },
    {
      "cell_type": "markdown",
      "source": [
        "## Train the model with bucket representations\n",
        "\n",
        "Run the following code cell to train the model with bucket representations rather than floating-point representations:"
      ],
      "metadata": {
        "id": "ayDyHuxmOPT4"
      }
    },
    {
      "cell_type": "code",
      "source": [
        "# The following variables are the hyperparameters.\n",
        "learning_rate = 0.04\n",
        "epochs = 35\n",
        "\n",
        "# Build the model, this time passing in the buckets_feature_layer.\n",
        "my_model = create_model(learning_rate, buckets_feature_layer)\n",
        "\n",
        "# Train the model on the training set.\n",
        "epochs, rmse = train_model(my_model, train_df, epochs, batch_size, label_name)\n",
        "\n",
        "plot_the_loss_curve(epochs, rmse)\n",
        "\n",
        "print(\"\\n: Evaluate the new model against the test set:\")\n",
        "my_model.evaluate(x=test_features, y=test_label, batch_size=batch_size)"
      ],
      "metadata": {
        "colab": {
          "base_uri": "https://localhost:8080/",
          "height": 1000
        },
        "id": "1cLPQVehOJ4K",
        "outputId": "aac2a4e2-8d73-4944-cc18-3b748deb646a"
      },
      "execution_count": 17,
      "outputs": [
        {
          "output_type": "stream",
          "name": "stdout",
          "text": [
            "Epoch 1/35\n"
          ]
        },
        {
          "output_type": "stream",
          "name": "stderr",
          "text": [
            "/usr/local/lib/python3.7/dist-packages/keras/optimizer_v2/rmsprop.py:130: UserWarning: The `lr` argument is deprecated, use `learning_rate` instead.\n",
            "  super(RMSprop, self).__init__(name, **kwargs)\n"
          ]
        },
        {
          "output_type": "stream",
          "name": "stdout",
          "text": [
            "WARNING:tensorflow:Layers in a Sequential model should only have a single input tensor. Received: inputs={'longitude': <tf.Tensor 'IteratorGetNext:3' shape=(100,) dtype=float32>, 'latitude': <tf.Tensor 'IteratorGetNext:2' shape=(100,) dtype=float32>, 'housing_median_age': <tf.Tensor 'IteratorGetNext:1' shape=(100,) dtype=float32>, 'total_rooms': <tf.Tensor 'IteratorGetNext:7' shape=(100,) dtype=float32>, 'total_bedrooms': <tf.Tensor 'IteratorGetNext:6' shape=(100,) dtype=float32>, 'population': <tf.Tensor 'IteratorGetNext:5' shape=(100,) dtype=float32>, 'households': <tf.Tensor 'IteratorGetNext:0' shape=(100,) dtype=float32>, 'median_income': <tf.Tensor 'IteratorGetNext:4' shape=(100,) dtype=float32>}. Consider rewriting this model with the Functional API.\n",
            "WARNING:tensorflow:Layers in a Sequential model should only have a single input tensor. Received: inputs={'longitude': <tf.Tensor 'IteratorGetNext:3' shape=(100,) dtype=float32>, 'latitude': <tf.Tensor 'IteratorGetNext:2' shape=(100,) dtype=float32>, 'housing_median_age': <tf.Tensor 'IteratorGetNext:1' shape=(100,) dtype=float32>, 'total_rooms': <tf.Tensor 'IteratorGetNext:7' shape=(100,) dtype=float32>, 'total_bedrooms': <tf.Tensor 'IteratorGetNext:6' shape=(100,) dtype=float32>, 'population': <tf.Tensor 'IteratorGetNext:5' shape=(100,) dtype=float32>, 'households': <tf.Tensor 'IteratorGetNext:0' shape=(100,) dtype=float32>, 'median_income': <tf.Tensor 'IteratorGetNext:4' shape=(100,) dtype=float32>}. Consider rewriting this model with the Functional API.\n",
            "170/170 [==============================] - 1s 2ms/step - loss: 52293.8906 - root_mean_squared_error: 228.6786\n",
            "Epoch 2/35\n",
            "170/170 [==============================] - 0s 2ms/step - loss: 44865.6562 - root_mean_squared_error: 211.8151\n",
            "Epoch 3/35\n",
            "170/170 [==============================] - 0s 2ms/step - loss: 38242.3438 - root_mean_squared_error: 195.5565\n",
            "Epoch 4/35\n",
            "170/170 [==============================] - 0s 2ms/step - loss: 32434.9785 - root_mean_squared_error: 180.0971\n",
            "Epoch 5/35\n",
            "170/170 [==============================] - 0s 2ms/step - loss: 27378.5898 - root_mean_squared_error: 165.4648\n",
            "Epoch 6/35\n",
            "170/170 [==============================] - 0s 2ms/step - loss: 23113.0371 - root_mean_squared_error: 152.0297\n",
            "Epoch 7/35\n",
            "170/170 [==============================] - 0s 2ms/step - loss: 19564.6621 - root_mean_squared_error: 139.8737\n",
            "Epoch 8/35\n",
            "170/170 [==============================] - 0s 2ms/step - loss: 16750.1016 - root_mean_squared_error: 129.4222\n",
            "Epoch 9/35\n",
            "170/170 [==============================] - 0s 2ms/step - loss: 14580.2051 - root_mean_squared_error: 120.7485\n",
            "Epoch 10/35\n",
            "170/170 [==============================] - 0s 2ms/step - loss: 13014.7520 - root_mean_squared_error: 114.0822\n",
            "Epoch 11/35\n",
            "170/170 [==============================] - 0s 2ms/step - loss: 11955.6650 - root_mean_squared_error: 109.3420\n",
            "Epoch 12/35\n",
            "170/170 [==============================] - 0s 2ms/step - loss: 11332.7559 - root_mean_squared_error: 106.4554\n",
            "Epoch 13/35\n",
            "170/170 [==============================] - 0s 2ms/step - loss: 10984.6172 - root_mean_squared_error: 104.8075\n",
            "Epoch 14/35\n",
            "170/170 [==============================] - 0s 2ms/step - loss: 10792.4258 - root_mean_squared_error: 103.8866\n",
            "Epoch 15/35\n",
            "170/170 [==============================] - 0s 2ms/step - loss: 10676.9873 - root_mean_squared_error: 103.3295\n",
            "Epoch 16/35\n",
            "170/170 [==============================] - 0s 2ms/step - loss: 10601.4258 - root_mean_squared_error: 102.9632\n",
            "Epoch 17/35\n",
            "170/170 [==============================] - 0s 2ms/step - loss: 10552.1992 - root_mean_squared_error: 102.7239\n",
            "Epoch 18/35\n",
            "170/170 [==============================] - 0s 2ms/step - loss: 10519.1455 - root_mean_squared_error: 102.5629\n",
            "Epoch 19/35\n",
            "170/170 [==============================] - 0s 2ms/step - loss: 10495.3906 - root_mean_squared_error: 102.4470\n",
            "Epoch 20/35\n",
            "170/170 [==============================] - 0s 2ms/step - loss: 10476.8154 - root_mean_squared_error: 102.3563\n",
            "Epoch 21/35\n",
            "170/170 [==============================] - 0s 2ms/step - loss: 10461.6250 - root_mean_squared_error: 102.2821\n",
            "Epoch 22/35\n",
            "170/170 [==============================] - 0s 2ms/step - loss: 10448.8662 - root_mean_squared_error: 102.2197\n",
            "Epoch 23/35\n",
            "170/170 [==============================] - 0s 2ms/step - loss: 10437.0303 - root_mean_squared_error: 102.1618\n",
            "Epoch 24/35\n",
            "170/170 [==============================] - 0s 2ms/step - loss: 10427.0215 - root_mean_squared_error: 102.1128\n",
            "Epoch 25/35\n",
            "170/170 [==============================] - 0s 2ms/step - loss: 10416.8154 - root_mean_squared_error: 102.0628\n",
            "Epoch 26/35\n",
            "170/170 [==============================] - 0s 2ms/step - loss: 10407.8223 - root_mean_squared_error: 102.0187\n",
            "Epoch 27/35\n",
            "170/170 [==============================] - 0s 2ms/step - loss: 10398.5391 - root_mean_squared_error: 101.9732\n",
            "Epoch 28/35\n",
            "170/170 [==============================] - 0s 2ms/step - loss: 10390.1562 - root_mean_squared_error: 101.9321\n",
            "Epoch 29/35\n",
            "170/170 [==============================] - 0s 2ms/step - loss: 10382.3096 - root_mean_squared_error: 101.8936\n",
            "Epoch 30/35\n",
            "170/170 [==============================] - 0s 2ms/step - loss: 10374.4102 - root_mean_squared_error: 101.8548\n",
            "Epoch 31/35\n",
            "170/170 [==============================] - 0s 2ms/step - loss: 10366.8320 - root_mean_squared_error: 101.8176\n",
            "Epoch 32/35\n",
            "170/170 [==============================] - 0s 2ms/step - loss: 10359.6924 - root_mean_squared_error: 101.7826\n",
            "Epoch 33/35\n",
            "170/170 [==============================] - 0s 2ms/step - loss: 10352.5674 - root_mean_squared_error: 101.7476\n",
            "Epoch 34/35\n",
            "170/170 [==============================] - 0s 2ms/step - loss: 10345.8477 - root_mean_squared_error: 101.7145\n",
            "Epoch 35/35\n",
            "170/170 [==============================] - 0s 2ms/step - loss: 10339.1221 - root_mean_squared_error: 101.6815\n"
          ]
        },
        {
          "output_type": "display_data",
          "data": {
            "text/plain": [
              "<Figure size 432x288 with 1 Axes>"
            ],
            "image/png": "[encoded data removed]"
          },
          "metadata": {
            "needs_background": "light"
          }
        },
        {
          "output_type": "stream",
          "name": "stdout",
          "text": [
            "\n",
            ": Evaluate the new model against the test set:\n",
            "WARNING:tensorflow:Layers in a Sequential model should only have a single input tensor. Received: inputs={'longitude': <tf.Tensor 'IteratorGetNext:3' shape=(100,) dtype=float32>, 'latitude': <tf.Tensor 'IteratorGetNext:2' shape=(100,) dtype=float32>, 'housing_median_age': <tf.Tensor 'IteratorGetNext:1' shape=(100,) dtype=float32>, 'total_rooms': <tf.Tensor 'IteratorGetNext:7' shape=(100,) dtype=float32>, 'total_bedrooms': <tf.Tensor 'IteratorGetNext:6' shape=(100,) dtype=float32>, 'population': <tf.Tensor 'IteratorGetNext:5' shape=(100,) dtype=float32>, 'households': <tf.Tensor 'IteratorGetNext:0' shape=(100,) dtype=float32>, 'median_income': <tf.Tensor 'IteratorGetNext:4' shape=(100,) dtype=float32>}. Consider rewriting this model with the Functional API.\n",
            "30/30 [==============================] - 0s 2ms/step - loss: 10196.6670 - root_mean_squared_error: 100.9785\n"
          ]
        },
        {
          "output_type": "execute_result",
          "data": {
            "text/plain": [
              "[10196.6669921875, 100.97854614257812]"
            ]
          },
          "metadata": {},
          "execution_count": 17
        }
      ]
    },
    {
      "cell_type": "markdown",
      "source": [
        "## Task 2: Did buckets outperform floating-point representations?\n",
        "\n",
        "Compare the model's `root_mean_squared_error` values for the two representations (floating-point vs. buckets)?  Which model produced lower losses? "
      ],
      "metadata": {
        "id": "FroHLb2POgZe"
      }
    },
    {
      "cell_type": "code",
      "source": [
        "#@title Double-click for an answer to Task 2.\n",
        "\n",
        "# Bucket representation outperformed \n",
        "# floating-point representations.  \n",
        "# However, you can still do far better."
      ],
      "metadata": {
        "cellView": "form",
        "id": "2YvoVFDQON_i"
      },
      "execution_count": 18,
      "outputs": []
    },
    {
      "cell_type": "markdown",
      "source": [
        "## Task 3: What is a better way to represent location?\n",
        "\n",
        "Buckets are a big improvement over floating-point values. Can you identify an even better way to identify location with `latitude` and `longitude`?"
      ],
      "metadata": {
        "id": "cb8HzhMOOsVn"
      }
    },
    {
      "cell_type": "code",
      "source": [
        "#@title Double-click to view an answer to Task 3.\n",
        "\n",
        "# Representing location as a feature cross should \n",
        "# produce better results.\n",
        "\n",
        "# In Task 2, you represented latitude in \n",
        "# one-dimensional buckets and longitude in \n",
        "# another series of one-dimensional buckets. \n",
        "# Real-world locations, however, exist in \n",
        "# two dimension. Therefore, you should\n",
        "# represent location as a two-dimensional feature\n",
        "# cross. That is, you'll cross the 10 or so latitude \n",
        "# buckets with the 10 or so longitude buckets to \n",
        "# create a grid of 100 cells. \n",
        "\n",
        "# The model will learn separate weights for each \n",
        "# of the cells."
      ],
      "metadata": {
        "cellView": "form",
        "id": "j1Pale8UOoZQ"
      },
      "execution_count": 19,
      "outputs": []
    },
    {
      "cell_type": "markdown",
      "source": [
        "## Represent location as a feature cross\n",
        "\n",
        "The following code cell represents location as a feature cross. That is, the following code cell first creates buckets and then calls `tf.feature_column.crossed_column` to cross the buckets.\n",
        "\n"
      ],
      "metadata": {
        "id": "QBw3rGs8PBw-"
      }
    },
    {
      "cell_type": "code",
      "source": [
        "resolution_in_degrees = 0.3 \n",
        "\n",
        "# Create a new empty list that will eventually hold the generated feature column.\n",
        "feature_columns = []"
      ],
      "metadata": {
        "id": "cCYzx3LVO9vm"
      },
      "execution_count": 28,
      "outputs": []
    },
    {
      "cell_type": "code",
      "source": [
        "# Create a bucket feature column for latitude.\n",
        "latitude_as_a_numeric_column = tf.feature_column.numeric_column(\"latitude\")\n",
        "latitude_boundaries = list(np.arange(int(min(train_df['latitude'])), int(max(train_df['latitude'])), resolution_in_degrees))\n",
        "latitude = tf.feature_column.bucketized_column(latitude_as_a_numeric_column, latitude_boundaries)\n",
        "\n"
      ],
      "metadata": {
        "id": "m59tXMNQPJ0P"
      },
      "execution_count": 29,
      "outputs": []
    },
    {
      "cell_type": "code",
      "source": [
        "# Create a bucket feature column for longitude.\n",
        "longitude_as_a_numeric_column = tf.feature_column.numeric_column(\"longitude\")\n",
        "longitude_boundaries = list(np.arange(int(min(train_df['longitude'])), int(max(train_df['longitude'])), resolution_in_degrees))\n",
        "longitude = tf.feature_column.bucketized_column(longitude_as_a_numeric_column, longitude_boundaries)\n",
        "\n"
      ],
      "metadata": {
        "id": "iGB8b2nmPM9Y"
      },
      "execution_count": 30,
      "outputs": []
    },
    {
      "cell_type": "code",
      "source": [
        "# Create a feature cross of latitude and longitude.\n",
        "latitude_x_longitude = tf.feature_column.crossed_column([latitude, longitude], hash_bucket_size=100)\n",
        "crossed_feature = tf.feature_column.indicator_column(latitude_x_longitude)\n",
        "feature_columns.append(crossed_feature)\n",
        "\n"
      ],
      "metadata": {
        "id": "ES354vh0PO9n"
      },
      "execution_count": 31,
      "outputs": []
    },
    {
      "cell_type": "code",
      "source": [
        "# Convert the list of feature columns into a layer that will later be fed into\n",
        "# the model. \n",
        "feature_cross_feature_layer = layers.DenseFeatures(feature_columns)"
      ],
      "metadata": {
        "id": "2CZBpfBhPQPB"
      },
      "execution_count": 32,
      "outputs": []
    },
    {
      "cell_type": "markdown",
      "source": [
        "Invoke the following code cell to test your solution for Task 3. Please ignore the warning messages."
      ],
      "metadata": {
        "id": "S2QTbRrOPMiF"
      }
    },
    {
      "cell_type": "code",
      "source": [
        "# The following variables are the hyperparameters.\n",
        "learning_rate = 0.04\n",
        "epochs = 35\n",
        "\n",
        "# Build the model, this time passing in the feature_cross_feature_layer: \n",
        "my_model = create_model(learning_rate, feature_cross_feature_layer)\n",
        "\n",
        "# Train the model on the training set.\n",
        "epochs, rmse = train_model(my_model, train_df, epochs, batch_size, label_name)\n",
        "\n",
        "plot_the_loss_curve(epochs, rmse)\n",
        "\n",
        "print(\"\\n: Evaluate the new model against the test set:\")\n",
        "my_model.evaluate(x=test_features, y=test_label, batch_size=batch_size)"
      ],
      "metadata": {
        "colab": {
          "base_uri": "https://localhost:8080/",
          "height": 1000
        },
        "id": "3SM-T7wfPc_F",
        "outputId": "19d9c27d-f114-436a-cf9d-42ef2c1bfe54"
      },
      "execution_count": 39,
      "outputs": [
        {
          "output_type": "stream",
          "name": "stdout",
          "text": [
            "Epoch 1/35\n",
            "WARNING:tensorflow:Layers in a Sequential model should only have a single input tensor. Received: inputs={'longitude': <tf.Tensor 'IteratorGetNext:3' shape=(100,) dtype=float32>, 'latitude': <tf.Tensor 'IteratorGetNext:2' shape=(100,) dtype=float32>, 'housing_median_age': <tf.Tensor 'IteratorGetNext:1' shape=(100,) dtype=float32>, 'total_rooms': <tf.Tensor 'IteratorGetNext:7' shape=(100,) dtype=float32>, 'total_bedrooms': <tf.Tensor 'IteratorGetNext:6' shape=(100,) dtype=float32>, 'population': <tf.Tensor 'IteratorGetNext:5' shape=(100,) dtype=float32>, 'households': <tf.Tensor 'IteratorGetNext:0' shape=(100,) dtype=float32>, 'median_income': <tf.Tensor 'IteratorGetNext:4' shape=(100,) dtype=float32>}. Consider rewriting this model with the Functional API.\n"
          ]
        },
        {
          "output_type": "stream",
          "name": "stderr",
          "text": [
            "/usr/local/lib/python3.7/dist-packages/keras/optimizer_v2/rmsprop.py:130: UserWarning: The `lr` argument is deprecated, use `learning_rate` instead.\n",
            "  super(RMSprop, self).__init__(name, **kwargs)\n"
          ]
        },
        {
          "output_type": "stream",
          "name": "stdout",
          "text": [
            "WARNING:tensorflow:Layers in a Sequential model should only have a single input tensor. Received: inputs={'longitude': <tf.Tensor 'IteratorGetNext:3' shape=(100,) dtype=float32>, 'latitude': <tf.Tensor 'IteratorGetNext:2' shape=(100,) dtype=float32>, 'housing_median_age': <tf.Tensor 'IteratorGetNext:1' shape=(100,) dtype=float32>, 'total_rooms': <tf.Tensor 'IteratorGetNext:7' shape=(100,) dtype=float32>, 'total_bedrooms': <tf.Tensor 'IteratorGetNext:6' shape=(100,) dtype=float32>, 'population': <tf.Tensor 'IteratorGetNext:5' shape=(100,) dtype=float32>, 'households': <tf.Tensor 'IteratorGetNext:0' shape=(100,) dtype=float32>, 'median_income': <tf.Tensor 'IteratorGetNext:4' shape=(100,) dtype=float32>}. Consider rewriting this model with the Functional API.\n",
            "170/170 [==============================] - 2s 5ms/step - loss: 53693.1641 - root_mean_squared_error: 231.7178\n",
            "Epoch 2/35\n",
            "170/170 [==============================] - 0s 2ms/step - loss: 48919.2305 - root_mean_squared_error: 221.1769\n",
            "Epoch 3/35\n",
            "170/170 [==============================] - 0s 2ms/step - loss: 44465.8516 - root_mean_squared_error: 210.8693\n",
            "Epoch 4/35\n",
            "170/170 [==============================] - 0s 3ms/step - loss: 40291.9453 - root_mean_squared_error: 200.7285\n",
            "Epoch 5/35\n",
            "170/170 [==============================] - 0s 2ms/step - loss: 36436.2188 - root_mean_squared_error: 190.8827\n",
            "Epoch 6/35\n",
            "170/170 [==============================] - 0s 2ms/step - loss: 32893.1523 - root_mean_squared_error: 181.3647\n",
            "Epoch 7/35\n",
            "170/170 [==============================] - 0s 3ms/step - loss: 29613.5332 - root_mean_squared_error: 172.0858\n",
            "Epoch 8/35\n",
            "170/170 [==============================] - 0s 2ms/step - loss: 26649.5645 - root_mean_squared_error: 163.2469\n",
            "Epoch 9/35\n",
            "170/170 [==============================] - 0s 2ms/step - loss: 23981.1406 - root_mean_squared_error: 154.8585\n",
            "Epoch 10/35\n",
            "170/170 [==============================] - 0s 3ms/step - loss: 21589.4414 - root_mean_squared_error: 146.9335\n",
            "Epoch 11/35\n",
            "170/170 [==============================] - 0s 3ms/step - loss: 19485.2441 - root_mean_squared_error: 139.5896\n",
            "Epoch 12/35\n",
            "170/170 [==============================] - 0s 3ms/step - loss: 17645.7715 - root_mean_squared_error: 132.8374\n",
            "Epoch 13/35\n",
            "170/170 [==============================] - 0s 2ms/step - loss: 16059.2900 - root_mean_squared_error: 126.7253\n",
            "Epoch 14/35\n",
            "170/170 [==============================] - 0s 2ms/step - loss: 14717.4814 - root_mean_squared_error: 121.3156\n",
            "Epoch 15/35\n",
            "170/170 [==============================] - 0s 3ms/step - loss: 13617.4033 - root_mean_squared_error: 116.6936\n",
            "Epoch 16/35\n",
            "170/170 [==============================] - 0s 2ms/step - loss: 12740.1865 - root_mean_squared_error: 112.8724\n",
            "Epoch 17/35\n",
            "170/170 [==============================] - 0s 2ms/step - loss: 12068.0996 - root_mean_squared_error: 109.8549\n",
            "Epoch 18/35\n",
            "170/170 [==============================] - 0s 2ms/step - loss: 11567.6270 - root_mean_squared_error: 107.5529\n",
            "Epoch 19/35\n",
            "170/170 [==============================] - 0s 2ms/step - loss: 11211.9336 - root_mean_squared_error: 105.8864\n",
            "Epoch 20/35\n",
            "170/170 [==============================] - 0s 2ms/step - loss: 10970.9766 - root_mean_squared_error: 104.7424\n",
            "Epoch 21/35\n",
            "170/170 [==============================] - 0s 2ms/step - loss: 10798.8242 - root_mean_squared_error: 103.9174\n",
            "Epoch 22/35\n",
            "170/170 [==============================] - 0s 2ms/step - loss: 10669.5811 - root_mean_squared_error: 103.2937\n",
            "Epoch 23/35\n",
            "170/170 [==============================] - 0s 2ms/step - loss: 10564.5898 - root_mean_squared_error: 102.7842\n",
            "Epoch 24/35\n",
            "170/170 [==============================] - 0s 3ms/step - loss: 10475.2803 - root_mean_squared_error: 102.3488\n",
            "Epoch 25/35\n",
            "170/170 [==============================] - 0s 3ms/step - loss: 10398.8066 - root_mean_squared_error: 101.9745\n",
            "Epoch 26/35\n",
            "170/170 [==============================] - 0s 2ms/step - loss: 10334.7666 - root_mean_squared_error: 101.6601\n",
            "Epoch 27/35\n",
            "170/170 [==============================] - 0s 2ms/step - loss: 10278.4111 - root_mean_squared_error: 101.3825\n",
            "Epoch 28/35\n",
            "170/170 [==============================] - 0s 3ms/step - loss: 10230.4961 - root_mean_squared_error: 101.1459\n",
            "Epoch 29/35\n",
            "170/170 [==============================] - 0s 3ms/step - loss: 10189.9111 - root_mean_squared_error: 100.9451\n",
            "Epoch 30/35\n",
            "170/170 [==============================] - 0s 2ms/step - loss: 10154.6582 - root_mean_squared_error: 100.7703\n",
            "Epoch 31/35\n",
            "170/170 [==============================] - 0s 2ms/step - loss: 10123.9551 - root_mean_squared_error: 100.6179\n",
            "Epoch 32/35\n",
            "170/170 [==============================] - 0s 2ms/step - loss: 10097.8379 - root_mean_squared_error: 100.4880\n",
            "Epoch 33/35\n",
            "170/170 [==============================] - 0s 2ms/step - loss: 10074.7031 - root_mean_squared_error: 100.3728\n",
            "Epoch 34/35\n",
            "170/170 [==============================] - 0s 2ms/step - loss: 10054.7861 - root_mean_squared_error: 100.2736\n",
            "Epoch 35/35\n",
            "170/170 [==============================] - 0s 2ms/step - loss: 10037.3115 - root_mean_squared_error: 100.1864\n"
          ]
        },
        {
          "output_type": "display_data",
          "data": {
            "text/plain": [
              "<Figure size 432x288 with 1 Axes>"
            ],
            "image/png": "[encoded data removed]"
          },
          "metadata": {
            "needs_background": "light"
          }
        },
        {
          "output_type": "stream",
          "name": "stdout",
          "text": [
            "\n",
            ": Evaluate the new model against the test set:\n",
            "WARNING:tensorflow:Layers in a Sequential model should only have a single input tensor. Received: inputs={'longitude': <tf.Tensor 'IteratorGetNext:3' shape=(100,) dtype=float32>, 'latitude': <tf.Tensor 'IteratorGetNext:2' shape=(100,) dtype=float32>, 'housing_median_age': <tf.Tensor 'IteratorGetNext:1' shape=(100,) dtype=float32>, 'total_rooms': <tf.Tensor 'IteratorGetNext:7' shape=(100,) dtype=float32>, 'total_bedrooms': <tf.Tensor 'IteratorGetNext:6' shape=(100,) dtype=float32>, 'population': <tf.Tensor 'IteratorGetNext:5' shape=(100,) dtype=float32>, 'households': <tf.Tensor 'IteratorGetNext:0' shape=(100,) dtype=float32>, 'median_income': <tf.Tensor 'IteratorGetNext:4' shape=(100,) dtype=float32>}. Consider rewriting this model with the Functional API.\n",
            "30/30 [==============================] - 0s 2ms/step - loss: 9856.8418 - root_mean_squared_error: 99.2816\n"
          ]
        },
        {
          "output_type": "execute_result",
          "data": {
            "text/plain": [
              "[9856.841796875, 99.28163146972656]"
            ]
          },
          "metadata": {},
          "execution_count": 39
        }
      ]
    },
    {
      "cell_type": "markdown",
      "source": [
        "## Task 4: Did the feature cross outperform buckets?\n",
        "\n",
        "Compare the model's `root_mean_squared_error` values for the two representations (buckets vs. feature cross)?  Which model produced\n",
        "lower losses? "
      ],
      "metadata": {
        "id": "c3jgB9F2Pnb9"
      }
    },
    {
      "cell_type": "code",
      "source": [
        "#@title Double-click for an answer to this question.\n",
        "\n",
        "# Yes, representing these features as a feature \n",
        "# cross produced much lower loss values than \n",
        "# representing these features as buckets"
      ],
      "metadata": {
        "cellView": "form",
        "id": "lM4TG49KPfKx"
      },
      "execution_count": 34,
      "outputs": []
    },
    {
      "cell_type": "markdown",
      "source": [
        "## Task 5: Adjust the resolution of the feature cross\n",
        "\n",
        "Return to the code cell in the \"Represent location as a feature cross\" section. Notice that `resolution_in_degrees` is set to 1.0. Therefore, each cell represents an area of 1.0 degree of latitude by 1.0 degree of longitude, which corresponds to a cell of 110 km by 90 km.  This resolution defines a rather large neighborhood. \n",
        "\n",
        "Experiment with `resolution_in_degrees` to answer the following questions:\n",
        "\n",
        "  1. What value of `resolution_in_degrees` produces the best results (lowest loss value)?\n",
        "  2. Why does loss increase when the value of `resolution_in_degrees` drops below a certain value?\n",
        "\n",
        "Finally, answer the following question:\n",
        "\n",
        "  3. What feature (that does not exist in the California Housing Dataset) would\n",
        "     be a better proxy for location than latitude X longitude."
      ],
      "metadata": {
        "id": "7JaN92WqQBOm"
      }
    },
    {
      "cell_type": "code",
      "source": [
        "#@title Double-click for possible answers to Task 5.\n",
        "\n",
        "#1. A resolution of ~0.4 degree provides the best \n",
        "#   results.\n",
        "\n",
        "#2. Below ~0.4 degree, loss increases because the \n",
        "#   dataset does not contain enough examples in \n",
        "#   each cell to accurately predict prices for \n",
        "#   those cells.\n",
        "\n",
        "#3. Postal code would be a far better feature \n",
        "#   than latitude X longitude, assuming that \n",
        "#   the dataset contained sufficient examples \n",
        "#   in each postal code."
      ],
      "metadata": {
        "cellView": "form",
        "id": "lqrcVNraPqsO"
      },
      "execution_count": 35,
      "outputs": []
    },
    {
      "cell_type": "code",
      "source": [
        ""
      ],
      "metadata": {
        "id": "uFOv7L3CQFUs"
      },
      "execution_count": 35,
      "outputs": []
    }
  ]
}